{
  "nbformat": 4,
  "nbformat_minor": 0,
  "metadata": {
    "colab": {
      "name": "Day 4.ipynb",
      "provenance": [],
      "collapsed_sections": [],
      "authorship_tag": "ABX9TyOJtVQ95n2dchxrakwqW5bq",
      "include_colab_link": true
    },
    "kernelspec": {
      "name": "python3",
      "display_name": "Python 3"
    },
    "language_info": {
      "name": "python"
    }
  },
  "cells": [
    {
      "cell_type": "markdown",
      "metadata": {
        "id": "view-in-github",
        "colab_type": "text"
      },
      "source": [
        "<a href=\"https://colab.research.google.com/github/dubeyshubham786/66daysofdata/blob/main/Day_4.ipynb\" target=\"_parent\"><img src=\"https://colab.research.google.com/assets/colab-badge.svg\" alt=\"Open In Colab\"/></a>"
      ]
    },
    {
      "cell_type": "markdown",
      "source": [
        "# **Objects Oriented Programming**"
      ],
      "metadata": {
        "id": "TumA8AczN5pJ"
      }
    },
    {
      "cell_type": "markdown",
      "source": [
        "## **Class and Objects**\n",
        "\n",
        "**CLASS**: Class is the user defined as an outline for creating the new objects.\n",
        "It is like an object constructor for creating an objects.\n",
        "\n",
        "**OBJECTS**: Objects is an instance of a class. It's real thing like properties of the class. For example if the class is student then it's property is student roll number, class section, etc."
      ],
      "metadata": {
        "id": "PgGHk1O6PgYB"
      }
    },
    {
      "cell_type": "code",
      "source": [
        "# Example for creating the class\n",
        "\n",
        "class Dog:\n",
        "  attr1 = \"mammal\"\n",
        "  attr2 = \"German Dog\" "
      ],
      "metadata": {
        "id": "iYH7GrfzOhCL"
      },
      "execution_count": null,
      "outputs": []
    },
    {
      "cell_type": "code",
      "source": [
        "Tony = Dog()\n",
        "Tiger = Dog()"
      ],
      "metadata": {
        "id": "MTPPNivfOhFW"
      },
      "execution_count": null,
      "outputs": []
    },
    {
      "cell_type": "code",
      "source": [
        "print(Tony.attr1)"
      ],
      "metadata": {
        "colab": {
          "base_uri": "https://localhost:8080/"
        },
        "id": "n71rqGNPSPep",
        "outputId": "8fead9aa-fdd1-4040-86c7-84e7ae6fd243"
      },
      "execution_count": null,
      "outputs": [
        {
          "output_type": "stream",
          "name": "stdout",
          "text": [
            "mammal\n"
          ]
        }
      ]
    },
    {
      "cell_type": "code",
      "source": [
        "print(Tiger.attr2)"
      ],
      "metadata": {
        "colab": {
          "base_uri": "https://localhost:8080/"
        },
        "id": "Tmnh8rlVST9C",
        "outputId": "1e727ba6-7744-49e7-bf47-10159113621d"
      },
      "execution_count": null,
      "outputs": [
        {
          "output_type": "stream",
          "name": "stdout",
          "text": [
            "German Dog\n"
          ]
        }
      ]
    },
    {
      "cell_type": "code",
      "source": [
        "print(\"Tony is \")"
      ],
      "metadata": {
        "id": "XB0PHPVkOhIe"
      },
      "execution_count": null,
      "outputs": []
    },
    {
      "cell_type": "markdown",
      "source": [
        "## **Constructor in Python**\n",
        "\n",
        "In python the __init__() method is called the constructor. It's task is to initialized the value of the data members of the class when the object is created.\n",
        "\n",
        "In other words, \"A constructor is a special kind of method automatically called while creating an object. A constructor is defined in the class and we can use this method to initialize the basic attributes of the class.\""
      ],
      "metadata": {
        "id": "Ke_JLsLVSz6g"
      }
    },
    {
      "cell_type": "code",
      "source": [
        "def __init__(self):\n",
        "  # body of the constructor\n",
        "  pass"
      ],
      "metadata": {
        "id": "gEQXkGU6OhLJ"
      },
      "execution_count": null,
      "outputs": []
    },
    {
      "cell_type": "markdown",
      "source": [
        "There are two types of constructor\n",
        "\n",
        "**A. Default Constructor B. Parameterized Constructor**\n",
        "\n",
        "In Default Constructor is the one which doesn't accept any arguements and there is one default arguement provided to the constructor that is the self arguement. The above constructor is the default constructor. Example for default constructor is"
      ],
      "metadata": {
        "id": "CafgXiXVT0UG"
      }
    },
    {
      "cell_type": "code",
      "source": [
        "class Student:\n",
        "\n",
        "\t# default constructor\n",
        "\tdef __init__(self):\n",
        "\t\tself.name = \"Ramesh\"\n",
        "\n",
        "\t# a method for printing data members\n",
        "\tdef print_name(self):\n",
        "\t\tprint(self.name)\n",
        "\n",
        "\n",
        "# creating object of the class\n",
        "obj = Student()\n",
        "\n",
        "# calling the instance method using the object obj\n",
        "obj.print_name()\n"
      ],
      "metadata": {
        "colab": {
          "base_uri": "https://localhost:8080/"
        },
        "id": "sK8RABehTbbN",
        "outputId": "ffad033f-d13d-413b-8542-9587e5a6a3a4"
      },
      "execution_count": null,
      "outputs": [
        {
          "output_type": "stream",
          "name": "stdout",
          "text": [
            "Ramesh\n"
          ]
        }
      ]
    },
    {
      "cell_type": "markdown",
      "source": [
        "In Parameterized Constructor we provide more than the one variable in it. For example if we want to create a class of addition of two numbers then we can do like this."
      ],
      "metadata": {
        "id": "51GwmehFVD_8"
      }
    },
    {
      "cell_type": "code",
      "source": [
        "class Addition:\n",
        "\tfirst = 0\n",
        "\tsecond = 0\n",
        "\tanswer = 0\n",
        "\t\n",
        "\t# parameterized constructor\n",
        "\tdef __init__(self, f, s):\n",
        "\t\tself.first = f\n",
        "\t\tself.second = s\n",
        "\t\n",
        "\tdef display(self):\n",
        "\t\tprint(\"First number = \" + str(self.first))\n",
        "\t\tprint(\"Second number = \" + str(self.second))\n",
        "\t\tprint(\"Addition of two numbers = \" + str(self.answer))\n",
        "\n",
        "\tdef calculate(self):\n",
        "\t\tself.answer = self.first + self.second\n",
        "\n",
        "# creating object of the class\n",
        "# this will invoke parameterized constructor\n",
        "obj = Addition(1000, 2000)\n",
        "\n",
        "# perform Addition\n",
        "obj.calculate()\n",
        "\n",
        "# display result\n",
        "obj.display()\n"
      ],
      "metadata": {
        "colab": {
          "base_uri": "https://localhost:8080/"
        },
        "id": "WaPEZEmITbd-",
        "outputId": "0c7b8570-9987-41c6-8a8e-9f00602f2d7d"
      },
      "execution_count": null,
      "outputs": [
        {
          "output_type": "stream",
          "name": "stdout",
          "text": [
            "First number = 1000\n",
            "Second number = 2000\n",
            "Addition of two numbers = 3000\n"
          ]
        }
      ]
    },
    {
      "cell_type": "markdown",
      "source": [
        "## **Destructors in Python**\n",
        "\n",
        "In python del() method is called the destructor. It is called when all the references to the object have been deleted. In python this is not need because python has a garbage collector which handles it's memory management automatically."
      ],
      "metadata": {
        "id": "yT3nUEnCVxoc"
      }
    },
    {
      "cell_type": "code",
      "source": [
        "def __del__():\n",
        "  # body of the desructor\n",
        "  pass"
      ],
      "metadata": {
        "id": "wj6muMIUWkFF"
      },
      "execution_count": null,
      "outputs": []
    },
    {
      "cell_type": "code",
      "source": [
        "# Python program to illustrate destructor\n",
        "class Employee:\n",
        "\n",
        "\t# Initializing\n",
        "\tdef __init__(self):\n",
        "\t\tprint('Employee created.')\n",
        "\n",
        "\t# Deleting (Calling destructor)\n",
        "\tdef __del__(self):\n",
        "\t\tprint('Destructor called, Employee deleted.')\n",
        "\n",
        "obj = Employee()\n",
        "del obj\n"
      ],
      "metadata": {
        "colab": {
          "base_uri": "https://localhost:8080/"
        },
        "id": "jiGg2mwlWkHm",
        "outputId": "6961957c-6678-4150-acff-e842baaaaa6b"
      },
      "execution_count": null,
      "outputs": [
        {
          "output_type": "stream",
          "name": "stdout",
          "text": [
            "Employee created.\n",
            "Destructor called, Employee deleted.\n"
          ]
        }
      ]
    },
    {
      "cell_type": "markdown",
      "source": [
        "## **Inheritance in Python**\n",
        "\n",
        "As the word inheritance which means that it is derived from something. For example a son has qualities of his father. Similarly if class B is derived from class A then class B will not only contain all the properties of itself but also contain all the properties of class A.\n",
        "\n",
        "Inheritance is mainly used because of this following reasons:\n",
        "1. Reusability of Code. Don't have to write same code again and again.\n",
        "2. Transitive in nature"
      ],
      "metadata": {
        "id": "M97RS835ZuXd"
      }
    },
    {
      "cell_type": "code",
      "source": [
        "class Person(object):\n",
        "  def __init__(self, name):\n",
        "    self.name = name\n",
        "\n",
        "  def getName(self):\n",
        "    return self.name\n",
        "\n",
        "  def isEmployee(self):\n",
        "    return False\n",
        "\n",
        "\n",
        "# Now creating another class Employee\n",
        "class Employee(Person):\n",
        "  def isEmployee(self):\n",
        "    return True\n",
        "\n",
        "emp = Person(\"Ram\") # Object of class person\n",
        "print(emp.getName(), emp.isEmployee())\n",
        "\n",
        "emp = Employee(\"Viraj\") # Object of class Employee\n",
        "print(emp.getName(), emp.isEmployee())"
      ],
      "metadata": {
        "colab": {
          "base_uri": "https://localhost:8080/"
        },
        "id": "EXDIQHUnV2i0",
        "outputId": "6b4aaa6c-c9cb-4c34-feea-b30ec565daf3"
      },
      "execution_count": null,
      "outputs": [
        {
          "output_type": "stream",
          "name": "stdout",
          "text": [
            "Ram False\n",
            "Viraj True\n"
          ]
        }
      ]
    },
    {
      "cell_type": "markdown",
      "source": [
        "So here class Employee has all the properties of person and we have created inhertance of the class."
      ],
      "metadata": {
        "id": "W4vj4Q2-cnth"
      }
    },
    {
      "cell_type": "code",
      "source": [
        "# Python program to demonstrate\n",
        "# multiple inheritance\n",
        "\n",
        "class Mother:\n",
        "\tmothername = \"\"\n",
        "\tdef mother(self):\n",
        "\t\tprint(self.mothername)\n",
        "\n",
        "class Father:\n",
        "\tfathername = \"\"\n",
        "\tdef father(self):\n",
        "\t\tprint(self.fathername)\n",
        "\n",
        "# Derived class\n",
        "class Son(Mother, Father):\n",
        "\tdef parents(self):\n",
        "\t\tprint(\"Father :\", self.fathername)\n",
        "\t\tprint(\"Mother :\", self.mothername)\n",
        "\n",
        "# Driver's code\n",
        "s1 = Son()\n",
        "s1.fathername = \"Jethalal\"\n",
        "s1.mothername = \"Babita\"\n",
        "s1.parents()\n"
      ],
      "metadata": {
        "colab": {
          "base_uri": "https://localhost:8080/"
        },
        "id": "PFclzWC6TbgM",
        "outputId": "f41f17a6-92a9-4731-fb83-d14096188984"
      },
      "execution_count": null,
      "outputs": [
        {
          "output_type": "stream",
          "name": "stdout",
          "text": [
            "Father : Jethalal\n",
            "Mother : Babita\n"
          ]
        }
      ]
    },
    {
      "cell_type": "markdown",
      "source": [
        "## **Encapsulation in Python**\n",
        "\n",
        "Human body does not look nice when it is open like in the case of postmodem surgery. So skin is used to cover all the parts of the body and then it look nice. In a similar way we use encapsulation in python to cover the code that we don't want the user to see it. In other words it is use to hide the encapsulation details. \n",
        "\n",
        "Creating a class is an example of Encapsulation. We can create variable that are Public, Private and Protected variable. As the name indicate they have there respective property.\n",
        "\n",
        "**Public Data**: Easily accessible from any part of the program. All the data members and member functions of a class are public by default.\n",
        "\n",
        "**Protected**: Only accessible form the class derived from it. Declared protected by adding single underscore \"_\" symbol before the data member of that class.\n",
        "\n",
        "**Private**: Accessible within the class only. Declared private by adding a double underscore \"__\" symbol before the data member of that class."
      ],
      "metadata": {
        "id": "LOwJuC37d8iJ"
      }
    },
    {
      "cell_type": "markdown",
      "source": [
        "## **Polymorphism in python**\n",
        "\n",
        "As the name indicate that the same function will take many forms. Polymorphism can be used with inheritance and also with class method. A simple example of polymorphism is len() function."
      ],
      "metadata": {
        "id": "VbOrmY9cOJWt"
      }
    },
    {
      "cell_type": "code",
      "source": [
        "# Python program to demonstrate in-built poly-\n",
        "# morphic functions\n",
        "\n",
        "# len() being used for a string\n",
        "print(len(\"geeks\"))\n",
        "\n",
        "# len() being used for a list\n",
        "print(len([10, 20, 30]))\n"
      ],
      "metadata": {
        "id": "u7QZ38d-i8Jh",
        "colab": {
          "base_uri": "https://localhost:8080/"
        },
        "outputId": "7b4c732c-52f5-47a5-cd88-40a318d102bc"
      },
      "execution_count": 1,
      "outputs": [
        {
          "output_type": "stream",
          "name": "stdout",
          "text": [
            "5\n",
            "3\n"
          ]
        }
      ]
    },
    {
      "cell_type": "markdown",
      "source": [
        "## **Static and Class method**\n",
        "\n",
        "The @classmethod decorator is a built-in function decorator that is an expression that gets evaluated after your function is defined. The result of that evaluation shadows your function definition whereas in static method does not receive implicit first arguement."
      ],
      "metadata": {
        "id": "qqb1DyCsPX49"
      }
    },
    {
      "cell_type": "code",
      "source": [
        "class C(object):\n",
        "    @classmethod\n",
        "    def fun(cls, arg1, arg2, ...):\n",
        "       ....\n",
        "fun: function that needs to be converted into a class method\n",
        "returns: a class method for function."
      ],
      "metadata": {
        "id": "imAWb7Y9Pb6u"
      },
      "execution_count": null,
      "outputs": []
    },
    {
      "cell_type": "markdown",
      "source": [
        "Static method"
      ],
      "metadata": {
        "id": "d_qZB0K2QKbm"
      }
    },
    {
      "cell_type": "code",
      "source": [
        "class C(object):\n",
        "    @staticmethod\n",
        "    def fun(arg1, arg2, ...):\n",
        "        ...\n",
        "returns: a static method for function fun."
      ],
      "metadata": {
        "id": "nrSKNczvOcei"
      },
      "execution_count": 1,
      "outputs": []
    },
    {
      "cell_type": "markdown",
      "source": [
        "**Class method vs Static Method**\n",
        "\n",
        "A class method takes cls as the first parameter while a static method needs no specific parameters.\n",
        "\n",
        "A class method can access or modify the class state while a static method can’t access or modify it.\n",
        "\n",
        "In general, static methods know nothing about the class state. They are utility-type methods that take some parameters and work upon those parameters.\n",
        "\n",
        "On the other hand class methods must have class as a parameter.\n",
        "We use @classmethod decorator in python to create a class method and we use @staticmethod decorator to create a static method in python."
      ],
      "metadata": {
        "id": "bL164-snQr5L"
      }
    },
    {
      "cell_type": "code",
      "source": [
        "# Python program to demonstrate\n",
        "# use of class method and static method.\n",
        "from datetime import date\n",
        "\n",
        "class Person:\n",
        "\tdef __init__(self, name, age):\n",
        "\t\tself.name = name\n",
        "\t\tself.age = age\n",
        "\t\n",
        "\t# a class method to create a Person object by birth year.\n",
        "\t@classmethod\n",
        "\tdef fromBirthYear(cls, name, year):\n",
        "\t\treturn cls(name, date.today().year - year)\n",
        "\t\n",
        "\t# a static method to check if a Person is adult or not.\n",
        "\t@staticmethod\n",
        "\tdef isAdult(age):\n",
        "\t\treturn age > 18\n",
        "\n",
        "person1 = Person('mayank', 21)\n",
        "person2 = Person.fromBirthYear('mayank', 1996)\n",
        "\n",
        "print (person1.age)\n",
        "print (person2.age)\n",
        "\n",
        "# print the result\n",
        "print (Person.isAdult(22))\n"
      ],
      "metadata": {
        "colab": {
          "base_uri": "https://localhost:8080/"
        },
        "id": "J2XAqcB4Oclx",
        "outputId": "9f25c9a4-37e7-4bee-fc16-39bfbf0308ca"
      },
      "execution_count": 3,
      "outputs": [
        {
          "output_type": "stream",
          "name": "stdout",
          "text": [
            "21\n",
            "26\n",
            "True\n"
          ]
        }
      ]
    },
    {
      "cell_type": "code",
      "source": [
        ""
      ],
      "metadata": {
        "id": "C8W_T7VkRCok"
      },
      "execution_count": null,
      "outputs": []
    }
  ]
}
