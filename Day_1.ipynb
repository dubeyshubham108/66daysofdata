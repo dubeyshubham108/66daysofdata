{
  "nbformat": 4,
  "nbformat_minor": 0,
  "metadata": {
    "colab": {
      "name": "Day 1.ipynb",
      "provenance": [],
      "collapsed_sections": [
        "UaqR1WMciQbE",
        "apeJnu-zmWKQ",
        "0-HX8JltpOVV",
        "6XqIFlaYmr1H",
        "EhficQ8IudzC",
        "V31491BvuH3z",
        "BgmqyEUHuH4M",
        "tGmbu4MKuH43",
        "rshOIKENuH5F",
        "YBAQ1FyQuH5f",
        "Wheg57npuH5t",
        "avyykdGjuH52",
        "f4JqHtEouH57",
        "-PKIGd9xuH6a"
      ],
      "authorship_tag": "ABX9TyM57EIKv+Aw4Y8bcxESMkzh",
      "include_colab_link": true
    },
    "kernelspec": {
      "name": "python3",
      "display_name": "Python 3"
    },
    "language_info": {
      "name": "python"
    }
  },
  "cells": [
    {
      "cell_type": "markdown",
      "metadata": {
        "id": "view-in-github",
        "colab_type": "text"
      },
      "source": [
        "<a href=\"https://colab.research.google.com/github/dubeyshubham786/66daysofdata/blob/main/Day_1.ipynb\" target=\"_parent\"><img src=\"https://colab.research.google.com/assets/colab-badge.svg\" alt=\"Open In Colab\"/></a>"
      ]
    },
    {
      "cell_type": "markdown",
      "source": [
        "# ***Python Datatypes***\n",
        "\n",
        "Python has different datatypes like\n",
        "\n",
        "Text Type:\t**str**\n",
        "\n",
        "Numeric Types:\t**int**, **float**, **complex**\n",
        "\n",
        "Sequence Types:\t**list**, **tuple**\n",
        "\n",
        "Mapping Type:\t**dict**\n",
        "\n",
        "Set Types:\t**set**\n",
        "\n",
        "Boolean Type:\t**bool**\n",
        "\n",
        "Binary Types:\t**bytes**, **bytearray**, **memoryview**"
      ],
      "metadata": {
        "id": "UaqR1WMciQbE"
      }
    },
    {
      "cell_type": "markdown",
      "source": [
        "## First let us see basic datatypes like integer and float and their different function."
      ],
      "metadata": {
        "id": "9agB16S_jfHX"
      }
    },
    {
      "cell_type": "code",
      "source": [
        "# FLOOR DIVISION\n",
        "# It will give the value of quotients and represented by '//'\n",
        "5//2"
      ],
      "metadata": {
        "colab": {
          "base_uri": "https://localhost:8080/"
        },
        "id": "UYLs3MkPieCi",
        "outputId": "f524fe61-d119-4726-f7b3-22b67486b64d"
      },
      "execution_count": null,
      "outputs": [
        {
          "output_type": "execute_result",
          "data": {
            "text/plain": [
              "2"
            ]
          },
          "metadata": {},
          "execution_count": 3
        }
      ]
    },
    {
      "cell_type": "code",
      "source": [
        "8//4"
      ],
      "metadata": {
        "colab": {
          "base_uri": "https://localhost:8080/"
        },
        "id": "Oy0CNNDqieFz",
        "outputId": "f64ab91c-3462-4bed-ac3d-83b9d0607652"
      },
      "execution_count": null,
      "outputs": [
        {
          "output_type": "execute_result",
          "data": {
            "text/plain": [
              "2"
            ]
          },
          "metadata": {},
          "execution_count": 5
        }
      ]
    },
    {
      "cell_type": "code",
      "source": [
        "# MODULUS \n",
        "# It will give the remainder and expressed by percentage symbol\n",
        "5%2"
      ],
      "metadata": {
        "colab": {
          "base_uri": "https://localhost:8080/"
        },
        "id": "3osej4l_ieIb",
        "outputId": "f50292e9-eae8-4e6b-ecf3-ddd93aeb57ad"
      },
      "execution_count": null,
      "outputs": [
        {
          "output_type": "execute_result",
          "data": {
            "text/plain": [
              "1"
            ]
          },
          "metadata": {},
          "execution_count": 6
        }
      ]
    },
    {
      "cell_type": "code",
      "source": [
        "8%4"
      ],
      "metadata": {
        "colab": {
          "base_uri": "https://localhost:8080/"
        },
        "id": "wr0o1ZT8kp1B",
        "outputId": "7a9c159d-c81c-4b3b-b200-adfbca6b666f"
      },
      "execution_count": null,
      "outputs": [
        {
          "output_type": "execute_result",
          "data": {
            "text/plain": [
              "0"
            ]
          },
          "metadata": {},
          "execution_count": 7
        }
      ]
    },
    {
      "cell_type": "code",
      "source": [
        "# Scientific Notation for representing large numbers\n",
        "4E6  "
      ],
      "metadata": {
        "colab": {
          "base_uri": "https://localhost:8080/"
        },
        "id": "9HhQnW6Zkrvy",
        "outputId": "80342c31-4ad1-443e-cd74-8ceed4f3de32"
      },
      "execution_count": null,
      "outputs": [
        {
          "output_type": "execute_result",
          "data": {
            "text/plain": [
              "4000000.0"
            ]
          },
          "metadata": {},
          "execution_count": 9
        }
      ]
    },
    {
      "cell_type": "code",
      "source": [
        "# POWER operator\n",
        "2**2"
      ],
      "metadata": {
        "colab": {
          "base_uri": "https://localhost:8080/"
        },
        "id": "FrxjvXhBkzP9",
        "outputId": "b10e9f2f-b49b-4053-aae0-a4b73f8c8c1d"
      },
      "execution_count": null,
      "outputs": [
        {
          "output_type": "execute_result",
          "data": {
            "text/plain": [
              "4"
            ]
          },
          "metadata": {},
          "execution_count": 10
        }
      ]
    },
    {
      "cell_type": "markdown",
      "source": [
        "##  Rules for naming a variable in Python\n",
        "\n",
        "* Variables names must start with a letter or an underscore like _ product , product_\n",
        "\n",
        "\n",
        "* The remainder of your variable name may consist of letters, numbers and underscores\n",
        "\n",
        "\n",
        "* spacy1, pyThon,machine_learning are some valid variable names\n",
        "\n",
        "\n",
        "* Names are case sensitive.\n",
        "\n",
        "\n",
        "* case_sensitive, CASE_SENSITIVE, and Case_Sensitive are each a different variable.\n"
      ],
      "metadata": {
        "id": "Jj9-UZyplaBZ"
      }
    },
    {
      "cell_type": "markdown",
      "source": [
        "# **Boolean variable**\n",
        "\n",
        "It is simply True and False variable used in python. Represented by double equal to sign."
      ],
      "metadata": {
        "id": "apeJnu-zmWKQ"
      }
    },
    {
      "cell_type": "code",
      "source": [
        "2==3"
      ],
      "metadata": {
        "colab": {
          "base_uri": "https://localhost:8080/"
        },
        "id": "TymD-Azik0GM",
        "outputId": "544d8ca5-de40-4015-f3e4-e8bca9c09185"
      },
      "execution_count": null,
      "outputs": [
        {
          "output_type": "execute_result",
          "data": {
            "text/plain": [
              "False"
            ]
          },
          "metadata": {},
          "execution_count": 11
        }
      ]
    },
    {
      "cell_type": "code",
      "source": [
        "14==14"
      ],
      "metadata": {
        "colab": {
          "base_uri": "https://localhost:8080/"
        },
        "id": "sm3wCQyZk0I5",
        "outputId": "6a8d300e-e404-4a0d-dde9-994109186d85"
      },
      "execution_count": null,
      "outputs": [
        {
          "output_type": "execute_result",
          "data": {
            "text/plain": [
              "True"
            ]
          },
          "metadata": {},
          "execution_count": 13
        }
      ]
    },
    {
      "cell_type": "markdown",
      "metadata": {
        "id": "35lrqYk2JbP-"
      },
      "source": [
        "## Comparison Operators \n",
        "\n",
        "* These operators will allow us to compare variables and output a Boolean value (True or False). \n",
        "\n",
        "\n",
        "* If you have any sort of background in Math, these operators should be very straight forward.\n",
        "\n",
        "\n",
        "* First we'll present a table of the comparison operators and then work through some examples:\n",
        "\n",
        "\n",
        "* In the table below, a=3 and b=4.\n",
        "\n",
        "<table class=\"table table-bordered\">\n",
        "<tr>\n",
        "<th style=\"width:10%\">Operator</th><th style=\"width:45%\">Description</th><th>Example</th>\n",
        "</tr>\n",
        "<tr>\n",
        "<td>==</td>\n",
        "<td>If the values of two operands are equal, then the condition becomes true.</td>\n",
        "<td> (a == b) is not true.</td>\n",
        "</tr>\n",
        "<tr>\n",
        "<td>!=</td>\n",
        "<td>If values of two operands are not equal, then condition becomes true.</td>\n",
        "<td>(a != b) is true</td>\n",
        "</tr>\n",
        "<tr>\n",
        "<td>&gt;</td>\n",
        "<td>If the value of left operand is greater than the value of right operand, then condition becomes true.</td>\n",
        "<td> (a &gt; b) is not true.</td>\n",
        "</tr>\n",
        "<tr>\n",
        "<td>&lt;</td>\n",
        "<td>If the value of left operand is less than the value of right operand, then condition becomes true.</td>\n",
        "<td> (a &lt; b) is true.</td>\n",
        "</tr>\n",
        "<tr>\n",
        "<td>&gt;=</td>\n",
        "<td>If the value of left operand is greater than or equal to the value of right operand, then condition becomes true.</td>\n",
        "<td> (a &gt;= b) is not true. </td>\n",
        "</tr>\n",
        "<tr>\n",
        "<td>&lt;=</td>\n",
        "<td>If the value of left operand is less than or equal to the value of right operand, then condition becomes true.</td>\n",
        "<td> (a &lt;= b) is true. </td>\n",
        "</tr>\n",
        "</table>"
      ]
    },
    {
      "cell_type": "code",
      "source": [
        "# Not Equal to is represented by '!='\n",
        "2!=0  # 2 is not equal 0 which is true."
      ],
      "metadata": {
        "colab": {
          "base_uri": "https://localhost:8080/"
        },
        "id": "al0BlRCqm2OP",
        "outputId": "7e49485b-c7a4-4980-93ed-96c4ee58d124"
      },
      "execution_count": null,
      "outputs": [
        {
          "output_type": "execute_result",
          "data": {
            "text/plain": [
              "True"
            ]
          },
          "metadata": {},
          "execution_count": 14
        }
      ]
    },
    {
      "cell_type": "code",
      "source": [
        "# Less than equal to and greater than and equal to is represented by\n",
        "2>=3  # 2 is greater than equal to3 which is False"
      ],
      "metadata": {
        "colab": {
          "base_uri": "https://localhost:8080/"
        },
        "id": "GVO7ics0m2Ra",
        "outputId": "3c6e8983-4ccb-47c8-e017-f67700621ac2"
      },
      "execution_count": null,
      "outputs": [
        {
          "output_type": "execute_result",
          "data": {
            "text/plain": [
              "False"
            ]
          },
          "metadata": {},
          "execution_count": 15
        }
      ]
    },
    {
      "cell_type": "code",
      "source": [
        "3%5"
      ],
      "metadata": {
        "colab": {
          "base_uri": "https://localhost:8080/"
        },
        "id": "hNEWvxBim2XC",
        "outputId": "a5cfffa3-4b32-41a4-808d-534d12879ec5"
      },
      "execution_count": null,
      "outputs": [
        {
          "output_type": "execute_result",
          "data": {
            "text/plain": [
              "3"
            ]
          },
          "metadata": {},
          "execution_count": 16
        }
      ]
    },
    {
      "cell_type": "markdown",
      "source": [
        "# ***STRINGS***\n",
        "\n",
        "String is represented by single character or double invented comma. "
      ],
      "metadata": {
        "id": "0-HX8JltpOVV"
      }
    },
    {
      "cell_type": "code",
      "source": [
        "# LEN function in string is use to get the number of characters present in string.\n",
        "a = \"Geometry\""
      ],
      "metadata": {
        "id": "lNAsukvFm2Z5"
      },
      "execution_count": null,
      "outputs": []
    },
    {
      "cell_type": "code",
      "source": [
        "len(a)"
      ],
      "metadata": {
        "colab": {
          "base_uri": "https://localhost:8080/"
        },
        "id": "BOI2-vS8pVqA",
        "outputId": "85db5271-0191-4fd5-da69-cb866d4c5557"
      },
      "execution_count": null,
      "outputs": [
        {
          "output_type": "execute_result",
          "data": {
            "text/plain": [
              "8"
            ]
          },
          "metadata": {},
          "execution_count": 18
        }
      ]
    },
    {
      "cell_type": "markdown",
      "metadata": {
        "id": "6XqIFlaYmr1H"
      },
      "source": [
        "### <u> String Indexing </u>\n",
        "\n",
        "* We know strings are a sequence, which means Python can use indexes to call parts of the sequence.\n",
        "\n",
        "\n",
        "* A string index refers to the location of an element present in a string.\n",
        "\n",
        "\n",
        "* The indexing begins from 0 in Python. \n",
        "\n",
        "\n",
        "* The first element is assigned an index 0, the second element is assigned an index of 1 and so on and so forth.\n",
        "\n",
        "\n",
        "* In Python, we use brackets <code>[]</code> after an object to call its index."
      ]
    },
    {
      "cell_type": "code",
      "source": [
        "string  = 'Principal Component Analysis!'"
      ],
      "metadata": {
        "id": "V0S8iYsrpVwZ"
      },
      "execution_count": null,
      "outputs": []
    },
    {
      "cell_type": "code",
      "source": [
        "print(string)"
      ],
      "metadata": {
        "colab": {
          "base_uri": "https://localhost:8080/"
        },
        "id": "FefDyW1oqOd_",
        "outputId": "1e645148-6683-4f70-cb6d-edf65e8a77ef"
      },
      "execution_count": null,
      "outputs": [
        {
          "output_type": "stream",
          "name": "stdout",
          "text": [
            "Principal Component Analysis!\n"
          ]
        }
      ]
    },
    {
      "cell_type": "code",
      "source": [
        "string[4]"
      ],
      "metadata": {
        "colab": {
          "base_uri": "https://localhost:8080/",
          "height": 35
        },
        "id": "LGqq7nVRqOgy",
        "outputId": "aaac9392-c2e6-4c73-8212-66dd9b78267a"
      },
      "execution_count": null,
      "outputs": [
        {
          "output_type": "execute_result",
          "data": {
            "application/vnd.google.colaboratory.intrinsic+json": {
              "type": "string"
            },
            "text/plain": [
              "'c'"
            ]
          },
          "metadata": {},
          "execution_count": 22
        }
      ]
    },
    {
      "cell_type": "code",
      "source": [
        "string[:15]"
      ],
      "metadata": {
        "colab": {
          "base_uri": "https://localhost:8080/",
          "height": 35
        },
        "id": "WqvKCNHWqOjV",
        "outputId": "3e71e623-7f09-41ec-d315-8ebfc28916be"
      },
      "execution_count": null,
      "outputs": [
        {
          "output_type": "execute_result",
          "data": {
            "application/vnd.google.colaboratory.intrinsic+json": {
              "type": "string"
            },
            "text/plain": [
              "'Principal Compo'"
            ]
          },
          "metadata": {},
          "execution_count": 28
        }
      ]
    },
    {
      "cell_type": "code",
      "source": [
        "string[3:]"
      ],
      "metadata": {
        "colab": {
          "base_uri": "https://localhost:8080/",
          "height": 35
        },
        "id": "z3nidKmxq3Y1",
        "outputId": "662fc0ae-b3ce-46e1-bdba-8bccd50659b3"
      },
      "execution_count": null,
      "outputs": [
        {
          "output_type": "execute_result",
          "data": {
            "application/vnd.google.colaboratory.intrinsic+json": {
              "type": "string"
            },
            "text/plain": [
              "'ncipal Component Analysis!'"
            ]
          },
          "metadata": {},
          "execution_count": 29
        }
      ]
    },
    {
      "cell_type": "code",
      "source": [
        "string[-1]"
      ],
      "metadata": {
        "colab": {
          "base_uri": "https://localhost:8080/",
          "height": 35
        },
        "id": "tOD8kvAMqdzA",
        "outputId": "6d8f6e0c-fa75-4e6a-982d-bdceaf0cdef0"
      },
      "execution_count": null,
      "outputs": [
        {
          "output_type": "execute_result",
          "data": {
            "application/vnd.google.colaboratory.intrinsic+json": {
              "type": "string"
            },
            "text/plain": [
              "'!'"
            ]
          },
          "metadata": {},
          "execution_count": 25
        }
      ]
    },
    {
      "cell_type": "code",
      "source": [
        "string[:-1]"
      ],
      "metadata": {
        "colab": {
          "base_uri": "https://localhost:8080/",
          "height": 35
        },
        "id": "0QWUHUeFqffQ",
        "outputId": "07aae9b2-93fc-41c7-b258-96d7aa037c6a"
      },
      "execution_count": null,
      "outputs": [
        {
          "output_type": "execute_result",
          "data": {
            "application/vnd.google.colaboratory.intrinsic+json": {
              "type": "string"
            },
            "text/plain": [
              "'Principal Component Analysis'"
            ]
          },
          "metadata": {},
          "execution_count": 26
        }
      ]
    },
    {
      "cell_type": "code",
      "source": [
        "string[-1:]"
      ],
      "metadata": {
        "colab": {
          "base_uri": "https://localhost:8080/",
          "height": 35
        },
        "id": "7P3s9W4prCih",
        "outputId": "b626f948-e3ae-41f0-d1c8-6f2664801828"
      },
      "execution_count": null,
      "outputs": [
        {
          "output_type": "execute_result",
          "data": {
            "application/vnd.google.colaboratory.intrinsic+json": {
              "type": "string"
            },
            "text/plain": [
              "'!'"
            ]
          },
          "metadata": {},
          "execution_count": 35
        }
      ]
    },
    {
      "cell_type": "code",
      "source": [
        "string[::2] # Gives string with 2 jump"
      ],
      "metadata": {
        "colab": {
          "base_uri": "https://localhost:8080/",
          "height": 35
        },
        "id": "TjVW-un5qlqN",
        "outputId": "a0ed9fc6-ed63-43ec-dabe-06e619e7d3d0"
      },
      "execution_count": null,
      "outputs": [
        {
          "output_type": "execute_result",
          "data": {
            "application/vnd.google.colaboratory.intrinsic+json": {
              "type": "string"
            },
            "text/plain": [
              "'PicplCmoetAayi!'"
            ]
          },
          "metadata": {},
          "execution_count": 27
        }
      ]
    },
    {
      "cell_type": "code",
      "source": [
        "# Concatenate strings!\n",
        "\n",
        "string1='abc'\n",
        "string2='def'\n",
        "print(string1 + ' ' + string2 )"
      ],
      "metadata": {
        "colab": {
          "base_uri": "https://localhost:8080/"
        },
        "id": "zv2okiXeqqoc",
        "outputId": "5bca2587-a332-40ab-f6cf-fb2d5e7c2ada"
      },
      "execution_count": null,
      "outputs": [
        {
          "output_type": "stream",
          "name": "stdout",
          "text": [
            "abc def\n"
          ]
        }
      ]
    },
    {
      "cell_type": "code",
      "source": [
        "# Concatenate strings!\n",
        "\n",
        "string1='abc'\n",
        "string2='def'\n",
        "num = 4\n",
        "print(string1 + str(4) + string2)"
      ],
      "metadata": {
        "colab": {
          "base_uri": "https://localhost:8080/"
        },
        "id": "pAOrTmCRrbcn",
        "outputId": "4390fb73-2e79-48ca-a65b-cba4ae19bb54"
      },
      "execution_count": null,
      "outputs": [
        {
          "output_type": "stream",
          "name": "stdout",
          "text": [
            "abc4def\n"
          ]
        }
      ]
    },
    {
      "cell_type": "code",
      "source": [
        "letters = 'wubba'\n",
        "letters*3"
      ],
      "metadata": {
        "colab": {
          "base_uri": "https://localhost:8080/",
          "height": 35
        },
        "id": "VfheBpHRrcBB",
        "outputId": "14de238a-9963-4bbf-dc9c-f520a54523a8"
      },
      "execution_count": null,
      "outputs": [
        {
          "output_type": "execute_result",
          "data": {
            "application/vnd.google.colaboratory.intrinsic+json": {
              "type": "string"
            },
            "text/plain": [
              "'wubbawubbawubba'"
            ]
          },
          "metadata": {},
          "execution_count": 38
        }
      ]
    },
    {
      "cell_type": "code",
      "source": [
        "# Different function in string\n",
        "st = \"Machine Learning\""
      ],
      "metadata": {
        "id": "U6q3l3WFrcFV"
      },
      "execution_count": null,
      "outputs": []
    },
    {
      "cell_type": "code",
      "source": [
        "st.upper()"
      ],
      "metadata": {
        "colab": {
          "base_uri": "https://localhost:8080/",
          "height": 35
        },
        "id": "uHjAJDHEr9fn",
        "outputId": "b652e23b-be6d-4aa3-f236-95a05dbb55c0"
      },
      "execution_count": null,
      "outputs": [
        {
          "output_type": "execute_result",
          "data": {
            "application/vnd.google.colaboratory.intrinsic+json": {
              "type": "string"
            },
            "text/plain": [
              "'MACHINE LEARNING'"
            ]
          },
          "metadata": {},
          "execution_count": 42
        }
      ]
    },
    {
      "cell_type": "code",
      "source": [
        "st.lower()"
      ],
      "metadata": {
        "colab": {
          "base_uri": "https://localhost:8080/",
          "height": 35
        },
        "id": "blJ1i_Cpr_2U",
        "outputId": "4c274061-87ac-41ef-a869-a777956ee8fa"
      },
      "execution_count": null,
      "outputs": [
        {
          "output_type": "execute_result",
          "data": {
            "application/vnd.google.colaboratory.intrinsic+json": {
              "type": "string"
            },
            "text/plain": [
              "'machine learning'"
            ]
          },
          "metadata": {},
          "execution_count": 43
        }
      ]
    },
    {
      "cell_type": "code",
      "source": [
        "st.count('M')"
      ],
      "metadata": {
        "colab": {
          "base_uri": "https://localhost:8080/"
        },
        "id": "_o7UXYYcsEDK",
        "outputId": "635e6b81-f9c9-4e7c-bdc1-a5097bae4f42"
      },
      "execution_count": null,
      "outputs": [
        {
          "output_type": "execute_result",
          "data": {
            "text/plain": [
              "1"
            ]
          },
          "metadata": {},
          "execution_count": 44
        }
      ]
    },
    {
      "cell_type": "code",
      "source": [
        "st.count(\"a\")"
      ],
      "metadata": {
        "colab": {
          "base_uri": "https://localhost:8080/"
        },
        "id": "ewimOs4JsLYK",
        "outputId": "f87438c4-29e0-4997-9113-7df7e5a1d416"
      },
      "execution_count": null,
      "outputs": [
        {
          "output_type": "execute_result",
          "data": {
            "text/plain": [
              "2"
            ]
          },
          "metadata": {},
          "execution_count": 45
        }
      ]
    },
    {
      "cell_type": "code",
      "source": [
        "# Replace funcion \n",
        "print(st)"
      ],
      "metadata": {
        "colab": {
          "base_uri": "https://localhost:8080/"
        },
        "id": "R6GekPdpsOQ4",
        "outputId": "452e56e3-db6a-4ebb-a50e-2e2e85417cc1"
      },
      "execution_count": null,
      "outputs": [
        {
          "output_type": "stream",
          "name": "stdout",
          "text": [
            "Machine Learning\n"
          ]
        }
      ]
    },
    {
      "cell_type": "code",
      "source": [
        "st.replace(' ', '-')"
      ],
      "metadata": {
        "colab": {
          "base_uri": "https://localhost:8080/",
          "height": 35
        },
        "id": "_zRUXgVssWVS",
        "outputId": "509288ac-46bc-4f95-f88a-fb5efe9ed841"
      },
      "execution_count": null,
      "outputs": [
        {
          "output_type": "execute_result",
          "data": {
            "application/vnd.google.colaboratory.intrinsic+json": {
              "type": "string"
            },
            "text/plain": [
              "'Machine-Learning'"
            ]
          },
          "metadata": {},
          "execution_count": 47
        }
      ]
    },
    {
      "cell_type": "markdown",
      "source": [
        "# ***List***"
      ],
      "metadata": {
        "id": "EhficQ8IudzC"
      }
    },
    {
      "cell_type": "code",
      "source": [
        "# Assign a list to an variable named my_list\n",
        "my_list = [1,2,3,4]"
      ],
      "metadata": {
        "id": "oDZE6JeFsciQ"
      },
      "execution_count": null,
      "outputs": []
    },
    {
      "cell_type": "code",
      "source": [
        "print(my_list)"
      ],
      "metadata": {
        "colab": {
          "base_uri": "https://localhost:8080/"
        },
        "id": "Tb0_DRpGuv_M",
        "outputId": "0bbe0c48-13d2-4a1a-8638-3dc9825365b1"
      },
      "execution_count": null,
      "outputs": [
        {
          "output_type": "stream",
          "name": "stdout",
          "text": [
            "[1, 2, 3, 4]\n"
          ]
        }
      ]
    },
    {
      "cell_type": "code",
      "source": [
        "# List function\n",
        "\n",
        "new_list = [6, 9, 1, 3, 5.5]"
      ],
      "metadata": {
        "id": "whtXvwr_uwi1"
      },
      "execution_count": null,
      "outputs": []
    },
    {
      "cell_type": "code",
      "source": [
        "min(new_list)"
      ],
      "metadata": {
        "colab": {
          "base_uri": "https://localhost:8080/"
        },
        "id": "UNo8vJG9v0Uc",
        "outputId": "fbd9069f-a5d7-401f-8baf-224319df765c"
      },
      "execution_count": null,
      "outputs": [
        {
          "output_type": "execute_result",
          "data": {
            "text/plain": [
              "1"
            ]
          },
          "metadata": {},
          "execution_count": 55
        }
      ]
    },
    {
      "cell_type": "code",
      "source": [
        "max(new_list)"
      ],
      "metadata": {
        "colab": {
          "base_uri": "https://localhost:8080/"
        },
        "id": "3-psCdKlv1T1",
        "outputId": "237c45f6-c639-4b4f-f319-169c32cb5d82"
      },
      "execution_count": null,
      "outputs": [
        {
          "output_type": "execute_result",
          "data": {
            "text/plain": [
              "9"
            ]
          },
          "metadata": {},
          "execution_count": 56
        }
      ]
    },
    {
      "cell_type": "code",
      "source": [
        "len(new_list)"
      ],
      "metadata": {
        "colab": {
          "base_uri": "https://localhost:8080/"
        },
        "id": "2vW053Mkv1Wt",
        "outputId": "6d3a304d-05d6-4e01-a6f5-d56f7d11d742"
      },
      "execution_count": null,
      "outputs": [
        {
          "output_type": "execute_result",
          "data": {
            "text/plain": [
              "5"
            ]
          },
          "metadata": {},
          "execution_count": 58
        }
      ]
    },
    {
      "cell_type": "code",
      "source": [
        "sum(new_list)"
      ],
      "metadata": {
        "colab": {
          "base_uri": "https://localhost:8080/"
        },
        "id": "8nM0_fqhv1ZR",
        "outputId": "b0a3db0c-d093-4306-9509-6c67c051579f"
      },
      "execution_count": null,
      "outputs": [
        {
          "output_type": "execute_result",
          "data": {
            "text/plain": [
              "24.5"
            ]
          },
          "metadata": {},
          "execution_count": 59
        }
      ]
    },
    {
      "cell_type": "markdown",
      "metadata": {
        "id": "V31491BvuH3z"
      },
      "source": [
        "### <code>sorted()</code>\n",
        "\n",
        "\n",
        "* <code>sorted()</code> function returns the sorted list \n",
        "\n",
        "\n",
        "* <code>sorted()</code> function takes reverse boolean as an argument\n",
        "\n",
        "\n",
        "* <code>sorted()</code> function only works on a list with similar data types"
      ]
    },
    {
      "cell_type": "code",
      "source": [
        "print(new_list)"
      ],
      "metadata": {
        "colab": {
          "base_uri": "https://localhost:8080/"
        },
        "id": "YSwUWFNnwcMI",
        "outputId": "1726d52c-361b-4e10-8f23-b3169142badd"
      },
      "execution_count": null,
      "outputs": [
        {
          "output_type": "stream",
          "name": "stdout",
          "text": [
            "[6, 9, 1, 3, 5.5]\n"
          ]
        }
      ]
    },
    {
      "cell_type": "code",
      "source": [
        "sorted(new_list)"
      ],
      "metadata": {
        "colab": {
          "base_uri": "https://localhost:8080/"
        },
        "id": "4TWN3zMCv1bb",
        "outputId": "70c6b6ef-37d6-4ffb-bcec-f3744bd52753"
      },
      "execution_count": null,
      "outputs": [
        {
          "output_type": "execute_result",
          "data": {
            "text/plain": [
              "[1, 3, 5.5, 6, 9]"
            ]
          },
          "metadata": {},
          "execution_count": 61
        }
      ]
    },
    {
      "cell_type": "code",
      "source": [
        "new_list = ['Argue','Burglar','Parent','Linear','shape']"
      ],
      "metadata": {
        "id": "fNcOv-F_wXkY"
      },
      "execution_count": null,
      "outputs": []
    },
    {
      "cell_type": "code",
      "source": [
        "sorted(new_list)"
      ],
      "metadata": {
        "colab": {
          "base_uri": "https://localhost:8080/"
        },
        "id": "TlINDptTwXnb",
        "outputId": "67763b67-e847-4b73-afc0-d72069ff340e"
      },
      "execution_count": null,
      "outputs": [
        {
          "output_type": "execute_result",
          "data": {
            "text/plain": [
              "['Argue', 'Burglar', 'Linear', 'Parent', 'shape']"
            ]
          },
          "metadata": {},
          "execution_count": 63
        }
      ]
    },
    {
      "cell_type": "code",
      "source": [
        "print(new_list)"
      ],
      "metadata": {
        "colab": {
          "base_uri": "https://localhost:8080/"
        },
        "id": "CFKLsI7dwXqi",
        "outputId": "92d73bec-a24a-4369-b0c7-2974653d637f"
      },
      "execution_count": null,
      "outputs": [
        {
          "output_type": "stream",
          "name": "stdout",
          "text": [
            "['Argue', 'Burglar', 'Parent', 'Linear', 'shape']\n"
          ]
        }
      ]
    },
    {
      "cell_type": "markdown",
      "metadata": {
        "id": "BgmqyEUHuH4M"
      },
      "source": [
        "### <code>append()</code> \n",
        "\n",
        "* Use the <code>append()</code> method to permanently add an item to the end of a list.\n",
        "\n",
        "\n",
        "* <code>append()</code> method takes the element which you want to add to the list as an argument"
      ]
    },
    {
      "cell_type": "code",
      "source": [
        "# Create a new list\n",
        "my_list = [1,2,3,1,1,1,3,10,5,8]"
      ],
      "metadata": {
        "id": "tazs3TnAxKFv"
      },
      "execution_count": null,
      "outputs": []
    },
    {
      "cell_type": "code",
      "source": [
        "print(my_list)"
      ],
      "metadata": {
        "colab": {
          "base_uri": "https://localhost:8080/"
        },
        "id": "2dwizYKcxKPJ",
        "outputId": "f6fc4e79-1a27-40b2-f857-222527c03c3e"
      },
      "execution_count": null,
      "outputs": [
        {
          "output_type": "stream",
          "name": "stdout",
          "text": [
            "[1, 2, 3, 1, 1, 1, 3, 10, 5, 8]\n"
          ]
        }
      ]
    },
    {
      "cell_type": "code",
      "source": [
        "# Append to the end of the list\n",
        "my_list.append('Append me!')"
      ],
      "metadata": {
        "id": "WgGFkYNzxKWu"
      },
      "execution_count": null,
      "outputs": []
    },
    {
      "cell_type": "code",
      "source": [
        "print(my_list)"
      ],
      "metadata": {
        "colab": {
          "base_uri": "https://localhost:8080/"
        },
        "id": "vkOMDTfExVPn",
        "outputId": "0de0600c-cdfa-4540-9425-15754e4c6eb2"
      },
      "execution_count": null,
      "outputs": [
        {
          "output_type": "stream",
          "name": "stdout",
          "text": [
            "[1, 2, 3, 1, 1, 1, 3, 10, 5, 8, 'Append me!']\n"
          ]
        }
      ]
    },
    {
      "cell_type": "code",
      "source": [
        ""
      ],
      "metadata": {
        "id": "NHVrd3VCxXhK"
      },
      "execution_count": null,
      "outputs": []
    },
    {
      "cell_type": "markdown",
      "metadata": {
        "id": "tGmbu4MKuH43"
      },
      "source": [
        "### <code>extend()</code>\n",
        "\n",
        "* Use the <code> extend()</code> method to merge a list to an existing list\n",
        "\n",
        "\n",
        "* <code> extend()</code> method takes a list or any iterable(don't worry about it now) as an argument.\n",
        "\n",
        "\n",
        "* Quite helpful when you have two or more lists and you want to merge them together"
      ]
    },
    {
      "cell_type": "code",
      "source": [
        "# Print the list\n",
        "print(my_list)"
      ],
      "metadata": {
        "colab": {
          "base_uri": "https://localhost:8080/"
        },
        "id": "aWy7oqqfxrlI",
        "outputId": "0fa7d61f-5992-4acb-c4f8-b358ae1215d2"
      },
      "execution_count": null,
      "outputs": [
        {
          "output_type": "stream",
          "name": "stdout",
          "text": [
            "[1, 2, 3, 1, 1, 1, 3, 10, 5, 8, 'Append me!']\n"
          ]
        }
      ]
    },
    {
      "cell_type": "code",
      "source": [
        "my_list.extend(['Wubba','Lubba','Dub Dub'])"
      ],
      "metadata": {
        "id": "f-4ag6OpxrgN"
      },
      "execution_count": null,
      "outputs": []
    },
    {
      "cell_type": "code",
      "source": [
        ""
      ],
      "metadata": {
        "id": "zt2VoUesxrcv"
      },
      "execution_count": null,
      "outputs": []
    },
    {
      "cell_type": "markdown",
      "metadata": {
        "id": "rshOIKENuH5F"
      },
      "source": [
        "### <code>pop()</code>\n",
        "\n",
        "* Use <code>pop()</code> to \"pop off\" an item from the list. \n",
        "\n",
        "\n",
        "* By default <code>pop()</code> takes off the element at the last index, but you can also specify which index to pop off. \n",
        "\n",
        "\n",
        "* <code>pop()</code> takes the index as an argument and returns the elenent which was popped off."
      ]
    },
    {
      "cell_type": "code",
      "source": [
        "print(my_list)"
      ],
      "metadata": {
        "colab": {
          "base_uri": "https://localhost:8080/"
        },
        "id": "NaznMZnKxraB",
        "outputId": "388d2ae5-357f-4712-d4fd-457d98b99248"
      },
      "execution_count": null,
      "outputs": [
        {
          "output_type": "stream",
          "name": "stdout",
          "text": [
            "[1, 2, 3, 1, 1, 1, 3, 10, 5, 8, 'Append me!', 'Wubba', 'Lubba', 'Dub Dub']\n"
          ]
        }
      ]
    },
    {
      "cell_type": "code",
      "source": [
        "my_list.pop()"
      ],
      "metadata": {
        "colab": {
          "base_uri": "https://localhost:8080/",
          "height": 35
        },
        "id": "BYNBLkMDyGF5",
        "outputId": "6b8f4f9e-ddb7-4549-ed2f-b49a2e2e3d1c"
      },
      "execution_count": null,
      "outputs": [
        {
          "output_type": "execute_result",
          "data": {
            "application/vnd.google.colaboratory.intrinsic+json": {
              "type": "string"
            },
            "text/plain": [
              "'Dub Dub'"
            ]
          },
          "metadata": {},
          "execution_count": 75
        }
      ]
    },
    {
      "cell_type": "code",
      "source": [
        "print(my_list)"
      ],
      "metadata": {
        "colab": {
          "base_uri": "https://localhost:8080/"
        },
        "id": "avHXykADyGYy",
        "outputId": "0f349daa-4c91-4a81-952e-acf2abaeaa08"
      },
      "execution_count": null,
      "outputs": [
        {
          "output_type": "stream",
          "name": "stdout",
          "text": [
            "[1, 2, 3, 1, 1, 1, 3, 10, 5, 8, 'Append me!', 'Wubba', 'Lubba']\n"
          ]
        }
      ]
    },
    {
      "cell_type": "code",
      "source": [
        ""
      ],
      "metadata": {
        "id": "C1NVgwi8yGb7"
      },
      "execution_count": null,
      "outputs": []
    },
    {
      "cell_type": "markdown",
      "metadata": {
        "id": "YBAQ1FyQuH5f"
      },
      "source": [
        "### <code>remove()</code>\n",
        "\n",
        "* Use <code>remove()</code> to remove an item/element from the list. \n",
        "\n",
        "\n",
        "* By default <code>remove()</code> removes the specified element from the list.\n",
        "\n",
        "\n",
        "* <code>remove()</code> takes the element as an argument."
      ]
    },
    {
      "cell_type": "code",
      "source": [
        "# Print the list\n",
        "print(my_list)"
      ],
      "metadata": {
        "colab": {
          "base_uri": "https://localhost:8080/"
        },
        "id": "ZUNch4x_yR9i",
        "outputId": "62ae2829-96b1-48b6-d253-0f0c4f3374ee"
      },
      "execution_count": null,
      "outputs": [
        {
          "output_type": "stream",
          "name": "stdout",
          "text": [
            "[1, 2, 3, 1, 1, 1, 3, 10, 5, 8, 'Append me!', 'Wubba', 'Lubba']\n"
          ]
        }
      ]
    },
    {
      "cell_type": "code",
      "source": [
        "# Remove the element which you want to \n",
        "my_list.remove('Lubba')"
      ],
      "metadata": {
        "id": "NGq54aJvySA3"
      },
      "execution_count": null,
      "outputs": []
    },
    {
      "cell_type": "code",
      "source": [
        "my_list"
      ],
      "metadata": {
        "colab": {
          "base_uri": "https://localhost:8080/"
        },
        "id": "_zAZrF9tySDx",
        "outputId": "f02a95e3-811a-43b4-ceac-389ffb60075d"
      },
      "execution_count": null,
      "outputs": [
        {
          "output_type": "execute_result",
          "data": {
            "text/plain": [
              "[1, 2, 3, 1, 1, 1, 3, 10, 5, 8, 'Append me!', 'Wubba']"
            ]
          },
          "metadata": {},
          "execution_count": 80
        }
      ]
    },
    {
      "cell_type": "code",
      "source": [
        ""
      ],
      "metadata": {
        "id": "sRS_oAcCyinK"
      },
      "execution_count": null,
      "outputs": []
    },
    {
      "cell_type": "markdown",
      "metadata": {
        "id": "Wheg57npuH5t"
      },
      "source": [
        "### <code>count()</code>\n",
        "\n",
        "\n",
        "* The <code>count()</code> method returns the total occurrence of a specified element in the list"
      ]
    },
    {
      "cell_type": "code",
      "source": [
        "print(my_list)"
      ],
      "metadata": {
        "colab": {
          "base_uri": "https://localhost:8080/"
        },
        "id": "g6DhJukDyi79",
        "outputId": "f1fe714d-05eb-4158-f2e4-18f6926bed4f"
      },
      "execution_count": null,
      "outputs": [
        {
          "output_type": "stream",
          "name": "stdout",
          "text": [
            "[1, 2, 3, 1, 1, 1, 3, 10, 5, 8, 'Append me!', 'Wubba']\n"
          ]
        }
      ]
    },
    {
      "cell_type": "code",
      "source": [
        "my_list.count('Wubba')"
      ],
      "metadata": {
        "colab": {
          "base_uri": "https://localhost:8080/"
        },
        "id": "x8SxWLwTyi-9",
        "outputId": "24ba89d1-b5c2-4ae4-91bd-c1faa562072e"
      },
      "execution_count": null,
      "outputs": [
        {
          "output_type": "execute_result",
          "data": {
            "text/plain": [
              "1"
            ]
          },
          "metadata": {},
          "execution_count": 82
        }
      ]
    },
    {
      "cell_type": "code",
      "source": [
        ""
      ],
      "metadata": {
        "id": "PwAk9DSUyjBI"
      },
      "execution_count": null,
      "outputs": []
    },
    {
      "cell_type": "markdown",
      "metadata": {
        "id": "avyykdGjuH52"
      },
      "source": [
        "### <code>index()</code>\n",
        "\n",
        "\n",
        "* The <code>index()</code> method returns the index of a specified element."
      ]
    },
    {
      "cell_type": "code",
      "source": [
        "print(my_list)"
      ],
      "metadata": {
        "colab": {
          "base_uri": "https://localhost:8080/"
        },
        "id": "5foIGZHTy8Lk",
        "outputId": "267c7883-eaf1-49cd-b264-ff35049407ab"
      },
      "execution_count": null,
      "outputs": [
        {
          "output_type": "stream",
          "name": "stdout",
          "text": [
            "[1, 2, 3, 1, 1, 1, 3, 10, 5, 8, 'Append me!', 'Wubba']\n"
          ]
        }
      ]
    },
    {
      "cell_type": "code",
      "source": [
        "my_list.index('Wubba')"
      ],
      "metadata": {
        "colab": {
          "base_uri": "https://localhost:8080/"
        },
        "id": "nUJ2yfsyy8Ol",
        "outputId": "0d796224-10e4-40c6-8592-bfc7f550339a"
      },
      "execution_count": null,
      "outputs": [
        {
          "output_type": "execute_result",
          "data": {
            "text/plain": [
              "11"
            ]
          },
          "metadata": {},
          "execution_count": 84
        }
      ]
    },
    {
      "cell_type": "code",
      "source": [
        "my_list.index(3)"
      ],
      "metadata": {
        "colab": {
          "base_uri": "https://localhost:8080/"
        },
        "id": "HrOl6fZuy8RD",
        "outputId": "a3d1a1bc-06e3-479b-ef31-36ec7e32c0c4"
      },
      "execution_count": null,
      "outputs": [
        {
          "output_type": "execute_result",
          "data": {
            "text/plain": [
              "2"
            ]
          },
          "metadata": {},
          "execution_count": 86
        }
      ]
    },
    {
      "cell_type": "code",
      "source": [
        ""
      ],
      "metadata": {
        "id": "thog88SEy8Tb"
      },
      "execution_count": null,
      "outputs": []
    },
    {
      "cell_type": "markdown",
      "metadata": {
        "id": "f4JqHtEouH57"
      },
      "source": [
        "### <code>sort()</code>\n",
        "\n",
        "* Use <code>sort()</code> to sort the list in either ascending/descending order\n",
        "\n",
        "\n",
        "* The sorting is done in ascending order by default\n",
        "\n",
        "\n",
        "* <code>sort()</code> method takes the reverse boolean as an argument\n",
        "\n",
        "\n",
        "* <code>sort()</code> method only works on a list with elements of same data type"
      ]
    },
    {
      "cell_type": "code",
      "source": [
        "new_list = [6, 9, 1, 3, 5]"
      ],
      "metadata": {
        "id": "GQLL6Cp3zGzj"
      },
      "execution_count": null,
      "outputs": []
    },
    {
      "cell_type": "code",
      "source": [
        "# Use sort to sort the list (this is permanent!)\n",
        "new_list.sort()"
      ],
      "metadata": {
        "id": "0po4j7ghzG7W"
      },
      "execution_count": null,
      "outputs": []
    },
    {
      "cell_type": "code",
      "source": [
        "print(new_list)"
      ],
      "metadata": {
        "colab": {
          "base_uri": "https://localhost:8080/"
        },
        "id": "x2z6-0qzzX-s",
        "outputId": "f64f237f-7dfe-4faa-9acf-710171d9d3d7"
      },
      "execution_count": null,
      "outputs": [
        {
          "output_type": "stream",
          "name": "stdout",
          "text": [
            "[1, 3, 5, 6, 9]\n"
          ]
        }
      ]
    },
    {
      "cell_type": "code",
      "source": [
        "# Use the reverse boolean to set the ascending or descending order\n",
        "new_list.sort(reverse=True)\n",
        "print(new_list)"
      ],
      "metadata": {
        "colab": {
          "base_uri": "https://localhost:8080/"
        },
        "id": "aR2tgxtOzYCE",
        "outputId": "713e7e37-1509-42eb-98f7-b38ad9d1af64"
      },
      "execution_count": null,
      "outputs": [
        {
          "output_type": "stream",
          "name": "stdout",
          "text": [
            "[9, 6, 5, 3, 1]\n"
          ]
        }
      ]
    },
    {
      "cell_type": "code",
      "source": [
        ""
      ],
      "metadata": {
        "id": "yzYgIN6XzeMW"
      },
      "execution_count": null,
      "outputs": []
    },
    {
      "cell_type": "markdown",
      "metadata": {
        "id": "-PKIGd9xuH6a"
      },
      "source": [
        "### <code>reverse()</code>\n",
        "\n",
        "* <code>reverse()</code> method reverses the list"
      ]
    },
    {
      "cell_type": "code",
      "source": [
        "my_list = [1, 1, 1, 1, 1.43, 2, 3, 3, 5, 8, 10, 'Lubba', 'Dub Dub']"
      ],
      "metadata": {
        "id": "unDlueFZzeUh"
      },
      "execution_count": null,
      "outputs": []
    },
    {
      "cell_type": "code",
      "source": [
        "print(my_list)"
      ],
      "metadata": {
        "colab": {
          "base_uri": "https://localhost:8080/"
        },
        "id": "NEdyuTanzmSA",
        "outputId": "8b932132-c322-433c-d4a1-0259c2b0c614"
      },
      "execution_count": null,
      "outputs": [
        {
          "output_type": "stream",
          "name": "stdout",
          "text": [
            "[1, 1, 1, 1, 1.43, 2, 3, 3, 5, 8, 10, 'Lubba', 'Dub Dub']\n"
          ]
        }
      ]
    },
    {
      "cell_type": "code",
      "source": [
        "print(my_list.reverse())"
      ],
      "metadata": {
        "colab": {
          "base_uri": "https://localhost:8080/"
        },
        "id": "_apha3UxzeYC",
        "outputId": "006e44ec-ac3a-44ae-c78b-eb1a2c3988ca"
      },
      "execution_count": null,
      "outputs": [
        {
          "output_type": "stream",
          "name": "stdout",
          "text": [
            "None\n"
          ]
        }
      ]
    },
    {
      "cell_type": "code",
      "source": [
        ""
      ],
      "metadata": {
        "id": "vC0zDtoJzebv"
      },
      "execution_count": null,
      "outputs": []
    },
    {
      "cell_type": "markdown",
      "metadata": {
        "id": "Kflrg7Y0uH6j"
      },
      "source": [
        "## Nested Lists\n",
        "\n",
        "* A great feature of of Python data structures is that they support *nesting*. This means we can have data structures within data structures. For example: A list inside a list."
      ]
    },
    {
      "cell_type": "code",
      "source": [
        "# Let's make three lists\n",
        "lst_1=[1,2,3]\n",
        "lst_2=['b','a','d']\n",
        "lst_3=[7,8,9]\n",
        "\n",
        "# Make a list of lists to form a matrix\n",
        "list_of_lists = [lst_1,lst_2,lst_3]"
      ],
      "metadata": {
        "id": "WE2RjTUhz4A-"
      },
      "execution_count": null,
      "outputs": []
    },
    {
      "cell_type": "code",
      "source": [
        "print(list_of_lists)"
      ],
      "metadata": {
        "colab": {
          "base_uri": "https://localhost:8080/"
        },
        "id": "OWkQSFQyz4EO",
        "outputId": "a48fd192-e232-4ece-9bbc-33ac62486df8"
      },
      "execution_count": null,
      "outputs": [
        {
          "output_type": "stream",
          "name": "stdout",
          "text": [
            "[[1, 2, 3], ['b', 'a', 'd'], [7, 8, 9]]\n"
          ]
        }
      ]
    },
    {
      "cell_type": "code",
      "source": [
        "type(list_of_lists)"
      ],
      "metadata": {
        "colab": {
          "base_uri": "https://localhost:8080/"
        },
        "id": "3tRQ8wYyz4HQ",
        "outputId": "95413736-bbe5-4229-ed88-537c9b2d55a6"
      },
      "execution_count": null,
      "outputs": [
        {
          "output_type": "execute_result",
          "data": {
            "text/plain": [
              "list"
            ]
          },
          "metadata": {},
          "execution_count": 97
        }
      ]
    },
    {
      "cell_type": "code",
      "source": [
        ""
      ],
      "metadata": {
        "id": "WwG_45Aa4CRf"
      },
      "execution_count": null,
      "outputs": []
    },
    {
      "cell_type": "markdown",
      "source": [
        "# ***TUPLES***"
      ],
      "metadata": {
        "id": "EvXcmBiR0GpB"
      }
    },
    {
      "cell_type": "markdown",
      "metadata": {
        "id": "XyN6An5ux2v8"
      },
      "source": [
        "\n",
        "\n",
        "* In Python tuples are very similar to lists, however, unlike lists they are *immutable* meaning they can not be changed. \n",
        "\n",
        "\n",
        "* You would use tuples to present things that shouldn't be changed, such as days of the week, or dates on a calendar. \n",
        "\n",
        "\n",
        "## Constructing Tuples\n",
        "\n",
        "* The construction of a tuples use <code>()</code> with elements separated by commas."
      ]
    },
    {
      "cell_type": "code",
      "source": [
        "# Create a tuple\n",
        "my_tuple = (1,'a',3)"
      ],
      "metadata": {
        "id": "TlQAslxNvNxj"
      },
      "execution_count": null,
      "outputs": []
    },
    {
      "cell_type": "code",
      "source": [
        "print(my_tuple)"
      ],
      "metadata": {
        "id": "DBqxR44S3l8H",
        "colab": {
          "base_uri": "https://localhost:8080/"
        },
        "outputId": "d45526bc-e8f3-4946-dbec-2a23a89a1f6f"
      },
      "execution_count": null,
      "outputs": [
        {
          "output_type": "stream",
          "name": "stdout",
          "text": [
            "(1, 'a', 3)\n"
          ]
        }
      ]
    },
    {
      "cell_type": "code",
      "source": [
        "type(my_tuple)"
      ],
      "metadata": {
        "colab": {
          "base_uri": "https://localhost:8080/"
        },
        "id": "bz78RpM3vUqw",
        "outputId": "7c980820-639f-46f7-c5c4-53d2bb46fbb1"
      },
      "execution_count": null,
      "outputs": [
        {
          "output_type": "execute_result",
          "data": {
            "text/plain": [
              "tuple"
            ]
          },
          "metadata": {},
          "execution_count": 3
        }
      ]
    },
    {
      "cell_type": "code",
      "source": [
        "my_list = [1]"
      ],
      "metadata": {
        "id": "6SglPntLvXr9"
      },
      "execution_count": null,
      "outputs": []
    },
    {
      "cell_type": "code",
      "source": [
        "type(my_list)"
      ],
      "metadata": {
        "colab": {
          "base_uri": "https://localhost:8080/"
        },
        "id": "O8JoGgWxvcAP",
        "outputId": "f50579e0-8933-4b49-d04c-a735c0210163"
      },
      "execution_count": null,
      "outputs": [
        {
          "output_type": "execute_result",
          "data": {
            "text/plain": [
              "list"
            ]
          },
          "metadata": {},
          "execution_count": 5
        }
      ]
    },
    {
      "cell_type": "code",
      "source": [
        "my_tuple = (1,)"
      ],
      "metadata": {
        "id": "qnYnR8IxvdmK"
      },
      "execution_count": null,
      "outputs": []
    },
    {
      "cell_type": "code",
      "source": [
        "type(my_tuple)"
      ],
      "metadata": {
        "colab": {
          "base_uri": "https://localhost:8080/"
        },
        "id": "LHfPVh0Mvhk4",
        "outputId": "0117abb2-842c-41cb-ae50-d808adf4754e"
      },
      "execution_count": null,
      "outputs": [
        {
          "output_type": "execute_result",
          "data": {
            "text/plain": [
              "tuple"
            ]
          },
          "metadata": {},
          "execution_count": 7
        }
      ]
    },
    {
      "cell_type": "code",
      "source": [
        "len(my_tuple)"
      ],
      "metadata": {
        "colab": {
          "base_uri": "https://localhost:8080/"
        },
        "id": "Ew76CsNQvjVZ",
        "outputId": "ab5239df-f1e7-490e-e5dc-97f322b88b7d"
      },
      "execution_count": null,
      "outputs": [
        {
          "output_type": "execute_result",
          "data": {
            "text/plain": [
              "1"
            ]
          },
          "metadata": {},
          "execution_count": 8
        }
      ]
    },
    {
      "cell_type": "markdown",
      "source": [
        "## Indexing \n",
        "\n",
        "Indexing in tuple is similar to list.\n",
        "\n",
        "\n",
        "* A tuple index refers to the location of an element in a tuple.\n",
        "\n",
        "\n",
        "* Remember the indexing begins from 0 in Python. \n",
        "\n",
        "\n",
        "* The first element is assigned an index 0, the second element is assigned an index of 1 and so on and so forth."
      ],
      "metadata": {
        "id": "YuXB6yFDvqeZ"
      }
    },
    {
      "cell_type": "code",
      "source": [
        "# Can also mix object types \n",
        "another_tuple = ('one',2, 4.53, 'asbc')"
      ],
      "metadata": {
        "id": "fh3NUPvkvo0Q"
      },
      "execution_count": null,
      "outputs": []
    },
    {
      "cell_type": "code",
      "source": [
        "print(another_tuple)"
      ],
      "metadata": {
        "colab": {
          "base_uri": "https://localhost:8080/"
        },
        "id": "mK4TwKQFv6P2",
        "outputId": "9d0eecf7-0bde-4740-bb7b-45991a892f89"
      },
      "execution_count": null,
      "outputs": [
        {
          "output_type": "stream",
          "name": "stdout",
          "text": [
            "('one', 2, 4.53, 'asbc')\n"
          ]
        }
      ]
    },
    {
      "cell_type": "code",
      "source": [
        "print(another_tuple[0])"
      ],
      "metadata": {
        "colab": {
          "base_uri": "https://localhost:8080/"
        },
        "id": "UAARNgIMv6Ss",
        "outputId": "b9e3edf6-4a14-4ab9-fbc4-02147de91c5d"
      },
      "execution_count": null,
      "outputs": [
        {
          "output_type": "stream",
          "name": "stdout",
          "text": [
            "one\n"
          ]
        }
      ]
    },
    {
      "cell_type": "code",
      "source": [
        "print(another_tuple[-1])"
      ],
      "metadata": {
        "colab": {
          "base_uri": "https://localhost:8080/"
        },
        "id": "9JlXK_YLv6VT",
        "outputId": "f4e4e238-d892-440e-f856-a84b1a8fa766"
      },
      "execution_count": null,
      "outputs": [
        {
          "output_type": "stream",
          "name": "stdout",
          "text": [
            "asbc\n"
          ]
        }
      ]
    },
    {
      "cell_type": "code",
      "source": [
        "print(another_tuple[:])"
      ],
      "metadata": {
        "colab": {
          "base_uri": "https://localhost:8080/"
        },
        "id": "dB13KxHdwMVT",
        "outputId": "3c31e228-9db2-4f09-b19a-0e538c07369d"
      },
      "execution_count": null,
      "outputs": [
        {
          "output_type": "stream",
          "name": "stdout",
          "text": [
            "('one', 2, 4.53, 'asbc')\n"
          ]
        }
      ]
    },
    {
      "cell_type": "code",
      "source": [
        "print(another_tuple[2:])"
      ],
      "metadata": {
        "colab": {
          "base_uri": "https://localhost:8080/"
        },
        "id": "tK8JUTyQwQgI",
        "outputId": "636c0f96-b5ea-4d9a-f931-aefb45c2323f"
      },
      "execution_count": null,
      "outputs": [
        {
          "output_type": "stream",
          "name": "stdout",
          "text": [
            "(4.53, 'asbc')\n"
          ]
        }
      ]
    },
    {
      "cell_type": "code",
      "source": [
        "print(another_tuple[:-1])"
      ],
      "metadata": {
        "colab": {
          "base_uri": "https://localhost:8080/"
        },
        "id": "cJZRgEydwT37",
        "outputId": "bf94aa18-eea6-4eef-a232-ee6fe65231c0"
      },
      "execution_count": null,
      "outputs": [
        {
          "output_type": "stream",
          "name": "stdout",
          "text": [
            "('one', 2, 4.53)\n"
          ]
        }
      ]
    },
    {
      "cell_type": "code",
      "source": [
        "print(another_tuple[::-1])"
      ],
      "metadata": {
        "colab": {
          "base_uri": "https://localhost:8080/"
        },
        "id": "X4QDmGyEwXhX",
        "outputId": "f3b69241-15db-4a51-ffa2-f307bcc68a82"
      },
      "execution_count": null,
      "outputs": [
        {
          "output_type": "stream",
          "name": "stdout",
          "text": [
            "('asbc', 4.53, 2, 'one')\n"
          ]
        }
      ]
    },
    {
      "cell_type": "markdown",
      "source": [
        "## Tuple Method"
      ],
      "metadata": {
        "id": "VW994mnHwpZ7"
      }
    },
    {
      "cell_type": "markdown",
      "metadata": {
        "id": "INOUJ-IJx2w1"
      },
      "source": [
        "### <code>index()</code>\n",
        "\n",
        "\n",
        "* The <code>index()</code> method returns the index of a specified element."
      ]
    },
    {
      "cell_type": "code",
      "source": [
        "my_tuple =(1,2,3,4,5,6,1,1,2)"
      ],
      "metadata": {
        "id": "MHS0HhGcwtit"
      },
      "execution_count": null,
      "outputs": []
    },
    {
      "cell_type": "code",
      "source": [
        "my_tuple.index(2)"
      ],
      "metadata": {
        "colab": {
          "base_uri": "https://localhost:8080/"
        },
        "id": "WdaqwhD3wtf0",
        "outputId": "0b4789a7-db56-4b00-dc21-187be8528b28"
      },
      "execution_count": null,
      "outputs": [
        {
          "output_type": "execute_result",
          "data": {
            "text/plain": [
              "1"
            ]
          },
          "metadata": {},
          "execution_count": 18
        }
      ]
    },
    {
      "cell_type": "code",
      "source": [
        ""
      ],
      "metadata": {
        "id": "mk1DreecwtdI"
      },
      "execution_count": null,
      "outputs": []
    },
    {
      "cell_type": "markdown",
      "metadata": {
        "id": "6MHUetrLx2w6"
      },
      "source": [
        "### <code>count()</code>\n",
        "\n",
        "\n",
        "* The <code>count()</code> method returns the total occurrence of a specified element in a tuple"
      ]
    },
    {
      "cell_type": "code",
      "source": [
        "# Use .count to count the number of times a value appears\n",
        "my_tuple.count(2)"
      ],
      "metadata": {
        "colab": {
          "base_uri": "https://localhost:8080/"
        },
        "id": "HsU6cCOTw0XO",
        "outputId": "6f0743cf-1d90-4e0f-9844-0bb61073bab7"
      },
      "execution_count": null,
      "outputs": [
        {
          "output_type": "execute_result",
          "data": {
            "text/plain": [
              "2"
            ]
          },
          "metadata": {},
          "execution_count": 19
        }
      ]
    },
    {
      "cell_type": "code",
      "source": [
        ""
      ],
      "metadata": {
        "id": "GeETlucXw0cQ"
      },
      "execution_count": null,
      "outputs": []
    },
    {
      "cell_type": "markdown",
      "metadata": {
        "id": "FY0pToLax2xO"
      },
      "source": [
        "### <code>zip()</code>\n",
        "\n",
        "\n",
        "* <code>zip()</code> function takes multiple lists as arguments and zips them together \n",
        "\n",
        "\n",
        "* This function returns a list of n-paired tuples where n is the number of lists being zipped"
      ]
    },
    {
      "cell_type": "code",
      "source": [
        "city_list = ['Delhi','Patna','Cuttack','Guwahati']\n",
        "river_list = ['Yamuna','Ganga','Mahanadi','Brahmaputra']"
      ],
      "metadata": {
        "id": "zFPUiN15w_dA"
      },
      "execution_count": null,
      "outputs": []
    },
    {
      "cell_type": "code",
      "source": [
        "zip(city_list, river_list)"
      ],
      "metadata": {
        "colab": {
          "base_uri": "https://localhost:8080/"
        },
        "id": "CRFluSROw_f-",
        "outputId": "c0af14bc-7ab7-4fe8-83e1-862f1cfbf437"
      },
      "execution_count": null,
      "outputs": [
        {
          "output_type": "execute_result",
          "data": {
            "text/plain": [
              "<zip at 0x7f0c64c475a0>"
            ]
          },
          "metadata": {},
          "execution_count": 21
        }
      ]
    },
    {
      "cell_type": "code",
      "source": [
        "city_and_their_rivers = list(zip(city_list,river_list))"
      ],
      "metadata": {
        "id": "4n5o1tqpwtbP"
      },
      "execution_count": null,
      "outputs": []
    },
    {
      "cell_type": "code",
      "source": [
        "list(zip(city_list,river_list))"
      ],
      "metadata": {
        "colab": {
          "base_uri": "https://localhost:8080/"
        },
        "id": "O1K84rQHxEa3",
        "outputId": "01c037dd-5a3e-4666-ed6d-0f8fc4805982"
      },
      "execution_count": null,
      "outputs": [
        {
          "output_type": "execute_result",
          "data": {
            "text/plain": [
              "[('Delhi', 'Yamuna'),\n",
              " ('Patna', 'Ganga'),\n",
              " ('Cuttack', 'Mahanadi'),\n",
              " ('Guwahati', 'Brahmaputra')]"
            ]
          },
          "metadata": {},
          "execution_count": 23
        }
      ]
    },
    {
      "cell_type": "code",
      "source": [
        ""
      ],
      "metadata": {
        "id": "2aHgrMFuxEfD"
      },
      "execution_count": null,
      "outputs": []
    },
    {
      "cell_type": "markdown",
      "source": [
        "# **SET**"
      ],
      "metadata": {
        "id": "lUHFJWCXxT_-"
      }
    },
    {
      "cell_type": "markdown",
      "metadata": {
        "id": "Fy6-SFXHx2xW"
      },
      "source": [
        "\n",
        "* Sets are an unordered collection of *unique* elements. We can construct them by using the <code>set()</code> function.\n",
        "\n",
        "\n",
        "* Sets cannot have duplicates.\n",
        "\n",
        "\n",
        "* Sets are mutable just like lists.\n",
        "\n",
        "\n",
        "* You can create a non-empty set with curly braces by specifying elements separated by a comma."
      ]
    },
    {
      "cell_type": "code",
      "source": [
        "# Create an empty set \n",
        "empty_set = set()"
      ],
      "metadata": {
        "id": "4wCah3BbxYxL"
      },
      "execution_count": null,
      "outputs": []
    },
    {
      "cell_type": "code",
      "source": [
        "type(empty_set)"
      ],
      "metadata": {
        "colab": {
          "base_uri": "https://localhost:8080/"
        },
        "id": "qPVTF14jxY0a",
        "outputId": "017a1c46-a581-446e-eaab-43a690e76880"
      },
      "execution_count": null,
      "outputs": [
        {
          "output_type": "execute_result",
          "data": {
            "text/plain": [
              "set"
            ]
          },
          "metadata": {},
          "execution_count": 25
        }
      ]
    },
    {
      "cell_type": "code",
      "source": [
        "# Create a non-empty set within curly braces\n",
        "non_empty_set = {1,6,4,'abc'}"
      ],
      "metadata": {
        "id": "l41QyHbZxY3j"
      },
      "execution_count": null,
      "outputs": []
    },
    {
      "cell_type": "code",
      "source": [
        "# But we can have tuples as set elements, they are immutable\n",
        "my_set = {1, 2, (2,3)}"
      ],
      "metadata": {
        "id": "gvtu_v6SxY6c"
      },
      "execution_count": null,
      "outputs": []
    },
    {
      "cell_type": "code",
      "source": [
        "print(my_set)"
      ],
      "metadata": {
        "colab": {
          "base_uri": "https://localhost:8080/"
        },
        "id": "QlaLH0IuxtC0",
        "outputId": "22a5ad5c-a68b-4013-f78a-157c8073dec0"
      },
      "execution_count": null,
      "outputs": [
        {
          "output_type": "stream",
          "name": "stdout",
          "text": [
            "{1, 2, (2, 3)}\n"
          ]
        }
      ]
    },
    {
      "cell_type": "markdown",
      "metadata": {
        "id": "McnlvCvFx2x4"
      },
      "source": [
        "### <code>add()</code> \n",
        "\n",
        "\n",
        "*  <code>add()</code> method adds an element to a set\n",
        "\n",
        "\n",
        "* This method takes the element to be added as an argument"
      ]
    },
    {
      "cell_type": "code",
      "source": [
        "# We add to sets with the add() method\n",
        "my_set = set()\n",
        "my_set.add('a')"
      ],
      "metadata": {
        "id": "Tred09ABxvXa"
      },
      "execution_count": null,
      "outputs": []
    },
    {
      "cell_type": "code",
      "source": [
        "print(my_set)"
      ],
      "metadata": {
        "colab": {
          "base_uri": "https://localhost:8080/"
        },
        "id": "GkngbYiux7eJ",
        "outputId": "f174c823-7a23-496c-929b-521ba4ba7acc"
      },
      "execution_count": null,
      "outputs": [
        {
          "output_type": "stream",
          "name": "stdout",
          "text": [
            "{'a'}\n"
          ]
        }
      ]
    },
    {
      "cell_type": "code",
      "source": [
        "# Add a different element\n",
        "my_set.add(2)"
      ],
      "metadata": {
        "id": "9374Vqcnx3LA"
      },
      "execution_count": null,
      "outputs": []
    },
    {
      "cell_type": "code",
      "source": [
        "print(my_set)"
      ],
      "metadata": {
        "colab": {
          "base_uri": "https://localhost:8080/"
        },
        "id": "FmpWPFYqx5tf",
        "outputId": "943a1240-d56c-4ae4-c76e-0ec2a542dfbe"
      },
      "execution_count": null,
      "outputs": [
        {
          "output_type": "stream",
          "name": "stdout",
          "text": [
            "{'a', 2}\n"
          ]
        }
      ]
    },
    {
      "cell_type": "markdown",
      "metadata": {
        "id": "Y579P1fwx2yN"
      },
      "source": [
        "### <code>update()</code>\n",
        "\n",
        "* <code>update()</code> method helps to add multiple elements to a set"
      ]
    },
    {
      "cell_type": "code",
      "source": [
        "my_set = {5,7,9,3}"
      ],
      "metadata": {
        "id": "mYm-TASvyCPI"
      },
      "execution_count": null,
      "outputs": []
    },
    {
      "cell_type": "code",
      "source": [
        "# add multiple elements\n",
        "my_set.update([2, 3, 4])\n",
        "print(my_set)"
      ],
      "metadata": {
        "colab": {
          "base_uri": "https://localhost:8080/"
        },
        "id": "Xbc9ThGVyPWV",
        "outputId": "e04183e8-afc7-4a4a-9fa7-994be4adfaad"
      },
      "execution_count": null,
      "outputs": [
        {
          "output_type": "stream",
          "name": "stdout",
          "text": [
            "{2, 3, 4, 5, 7, 9}\n"
          ]
        }
      ]
    },
    {
      "cell_type": "markdown",
      "metadata": {
        "id": "Ehae_5psx2yT"
      },
      "source": [
        "### <code>remove()</code>\n",
        "\n",
        "* Use <code>remove()</code> to remove an item/element from the set. \n",
        "\n",
        "\n",
        "* By default <code>remove()</code> removes the specified element from the set.\n",
        "\n",
        "\n",
        "* <code>remove()</code> takes the element as an argument."
      ]
    },
    {
      "cell_type": "code",
      "metadata": {
        "id": "yRW6CHCix2yU"
      },
      "source": [
        "non_empty_set = {1,5,6,73,2}"
      ],
      "execution_count": null,
      "outputs": []
    },
    {
      "cell_type": "code",
      "metadata": {
        "id": "UlzYv0oqx2yb"
      },
      "source": [
        "non_empty_set.remove(5)"
      ],
      "execution_count": null,
      "outputs": []
    },
    {
      "cell_type": "code",
      "metadata": {
        "id": "2ZdpesQJx2yd",
        "colab": {
          "base_uri": "https://localhost:8080/"
        },
        "outputId": "6fd3bb50-88dd-4c21-e861-206dcfb4efdd"
      },
      "source": [
        "non_empty_set"
      ],
      "execution_count": null,
      "outputs": [
        {
          "output_type": "execute_result",
          "data": {
            "text/plain": [
              "{1, 2, 6, 73}"
            ]
          },
          "metadata": {},
          "execution_count": 41
        }
      ]
    },
    {
      "cell_type": "code",
      "metadata": {
        "id": "JfaKZ5uex2ye",
        "colab": {
          "base_uri": "https://localhost:8080/",
          "height": 165
        },
        "outputId": "5df82b00-6608-4d73-c409-168040ec3a68"
      },
      "source": [
        "non_empty_set.remove(45)"
      ],
      "execution_count": null,
      "outputs": [
        {
          "output_type": "error",
          "ename": "KeyError",
          "evalue": "ignored",
          "traceback": [
            "\u001b[0;31m---------------------------------------------------------------------------\u001b[0m",
            "\u001b[0;31mKeyError\u001b[0m                                  Traceback (most recent call last)",
            "\u001b[0;32m<ipython-input-42-a4e6701c6396>\u001b[0m in \u001b[0;36m<module>\u001b[0;34m()\u001b[0m\n\u001b[0;32m----> 1\u001b[0;31m \u001b[0mnon_empty_set\u001b[0m\u001b[0;34m.\u001b[0m\u001b[0mremove\u001b[0m\u001b[0;34m(\u001b[0m\u001b[0;36m45\u001b[0m\u001b[0;34m)\u001b[0m\u001b[0;34m\u001b[0m\u001b[0;34m\u001b[0m\u001b[0m\n\u001b[0m",
            "\u001b[0;31mKeyError\u001b[0m: 45"
          ]
        }
      ]
    },
    {
      "cell_type": "markdown",
      "metadata": {
        "id": "4WyPacOmx2yg"
      },
      "source": [
        "* <code>remove()</code> throws an error when we try to remove an element which is not present in the set"
      ]
    },
    {
      "cell_type": "code",
      "source": [
        ""
      ],
      "metadata": {
        "id": "gbG2pJCbyTvA"
      },
      "execution_count": null,
      "outputs": []
    },
    {
      "cell_type": "markdown",
      "metadata": {
        "id": "J78K33lKx2yh"
      },
      "source": [
        "### <code>union()</code>\n",
        "\n",
        "\n",
        "* <code>union()</code> method returns the union of two sets\n",
        "\n",
        "\n",
        "* Also denoted by the operator <code>|</code>"
      ]
    },
    {
      "cell_type": "code",
      "metadata": {
        "id": "5PsHlxXvx2yh"
      },
      "source": [
        "# Initialize sets A and B\n",
        "A = {1, 2, 3, 4, 5}\n",
        "B = {4, 5, 6, 7, 8}"
      ],
      "execution_count": null,
      "outputs": []
    },
    {
      "cell_type": "code",
      "metadata": {
        "id": "xb3dKUDdx2yi",
        "colab": {
          "base_uri": "https://localhost:8080/"
        },
        "outputId": "c92e9fb1-dd58-46d1-c79e-51ba6ee91413"
      },
      "source": [
        "A.union(B)"
      ],
      "execution_count": null,
      "outputs": [
        {
          "output_type": "execute_result",
          "data": {
            "text/plain": [
              "{1, 2, 3, 4, 5, 6, 7, 8}"
            ]
          },
          "metadata": {
            "tags": []
          },
          "execution_count": 89
        }
      ]
    },
    {
      "cell_type": "code",
      "metadata": {
        "colab": {
          "base_uri": "https://localhost:8080/"
        },
        "id": "LEnTk73BlUvM",
        "outputId": "bbaaeb98-59a0-40a2-ba39-8c0ce817238d"
      },
      "source": [
        "A"
      ],
      "execution_count": null,
      "outputs": [
        {
          "output_type": "execute_result",
          "data": {
            "text/plain": [
              "{1, 2, 3, 4, 5}"
            ]
          },
          "metadata": {
            "tags": []
          },
          "execution_count": 90
        }
      ]
    },
    {
      "cell_type": "code",
      "metadata": {
        "id": "5eiCPbm3x2yk",
        "colab": {
          "base_uri": "https://localhost:8080/"
        },
        "outputId": "5774a032-5b25-4886-a504-67f1b6412ba1"
      },
      "source": [
        "# Also denoted by the operator |\n",
        "A | B"
      ],
      "execution_count": null,
      "outputs": [
        {
          "output_type": "execute_result",
          "data": {
            "text/plain": [
              "{1, 2, 3, 4, 5, 6, 7, 8}"
            ]
          },
          "metadata": {
            "tags": []
          },
          "execution_count": 91
        }
      ]
    },
    {
      "cell_type": "code",
      "source": [
        ""
      ],
      "metadata": {
        "id": "mUkC4_d_yhxP"
      },
      "execution_count": null,
      "outputs": []
    },
    {
      "cell_type": "markdown",
      "metadata": {
        "id": "-imPGLIHx2ym"
      },
      "source": [
        "### <code>intersection()</code>\n",
        "\n",
        "\n",
        "* <code>intersection()</code> method returns the intersection of two sets\n",
        "\n",
        "\n",
        "* Also denoted by the operator <code>&</code>"
      ]
    },
    {
      "cell_type": "code",
      "metadata": {
        "id": "CEiWFkplx2ym"
      },
      "source": [
        "A = {1, 2, 3, 4, 5}\n",
        "B = {4, 5, 6, 7, 8}"
      ],
      "execution_count": null,
      "outputs": []
    },
    {
      "cell_type": "code",
      "metadata": {
        "id": "1ycxjihUx2yn",
        "colab": {
          "base_uri": "https://localhost:8080/"
        },
        "outputId": "e3a9657a-5ea8-42f6-bc7f-c34ebed9b4c0"
      },
      "source": [
        "A.intersection(B)"
      ],
      "execution_count": null,
      "outputs": [
        {
          "output_type": "execute_result",
          "data": {
            "text/plain": [
              "{4, 5}"
            ]
          },
          "metadata": {
            "tags": []
          },
          "execution_count": 93
        }
      ]
    },
    {
      "cell_type": "code",
      "metadata": {
        "id": "GalM9H1ax2yp",
        "colab": {
          "base_uri": "https://localhost:8080/"
        },
        "outputId": "d6813969-4e66-4482-efd5-fdfb02a128de"
      },
      "source": [
        "# Also denoted by the operator &\n",
        "A & B"
      ],
      "execution_count": null,
      "outputs": [
        {
          "output_type": "execute_result",
          "data": {
            "text/plain": [
              "{4, 5}"
            ]
          },
          "metadata": {
            "tags": []
          },
          "execution_count": 94
        }
      ]
    },
    {
      "cell_type": "code",
      "source": [
        ""
      ],
      "metadata": {
        "id": "RTAR34Xxyhoz"
      },
      "execution_count": null,
      "outputs": []
    },
    {
      "cell_type": "markdown",
      "metadata": {
        "id": "nJm-OfZDx2yq"
      },
      "source": [
        "### <code>difference()</code>\n",
        "\n",
        "\n",
        "* <code>difference()</code> method returns the difference of two sets\n",
        "\n",
        "\n",
        "* Difference of the set <code>B</code> from set <code>A</code> i.e, <code>(A - B)</code> is a set of elements that are only in <code>A</code> but not in <code>B</code>\n",
        "\n",
        "\n",
        "* Also denoted by the operator <code>-</code>"
      ]
    },
    {
      "cell_type": "code",
      "metadata": {
        "id": "bggwzeTCx2yq"
      },
      "source": [
        "A = {1, 2, 3, 4, 5}\n",
        "B = {4, 5, 6, 7, 8}"
      ],
      "execution_count": null,
      "outputs": []
    },
    {
      "cell_type": "code",
      "metadata": {
        "id": "wj1pQh3Ex2ys",
        "colab": {
          "base_uri": "https://localhost:8080/"
        },
        "outputId": "0dffad23-0291-4040-92e6-7b8d9d6235eb"
      },
      "source": [
        "A.difference(B)"
      ],
      "execution_count": null,
      "outputs": [
        {
          "output_type": "execute_result",
          "data": {
            "text/plain": [
              "{1, 2, 3}"
            ]
          },
          "metadata": {
            "tags": []
          },
          "execution_count": 96
        }
      ]
    },
    {
      "cell_type": "code",
      "metadata": {
        "id": "0DgHo42ax2yv",
        "colab": {
          "base_uri": "https://localhost:8080/"
        },
        "outputId": "5b1bff82-84a4-4c8f-e14a-1170b9eac11b"
      },
      "source": [
        "# Also denoted by the operator -\n",
        "A - B"
      ],
      "execution_count": null,
      "outputs": [
        {
          "output_type": "execute_result",
          "data": {
            "text/plain": [
              "{1, 2, 3}"
            ]
          },
          "metadata": {
            "tags": []
          },
          "execution_count": 97
        }
      ]
    },
    {
      "cell_type": "code",
      "metadata": {
        "id": "6252HLbjx2yw",
        "colab": {
          "base_uri": "https://localhost:8080/"
        },
        "outputId": "f126d86d-a2b8-4e40-d5b6-e522c04012b7"
      },
      "source": [
        "B.difference(A)"
      ],
      "execution_count": null,
      "outputs": [
        {
          "output_type": "execute_result",
          "data": {
            "text/plain": [
              "{6, 7, 8}"
            ]
          },
          "metadata": {
            "tags": []
          },
          "execution_count": 98
        }
      ]
    },
    {
      "cell_type": "code",
      "metadata": {
        "id": "UXeArQih9-KX",
        "colab": {
          "base_uri": "https://localhost:8080/",
          "height": 34
        },
        "outputId": "acc6f5bd-9467-485b-aa63-180b0ee0bf3b"
      },
      "source": [
        "B - A"
      ],
      "execution_count": null,
      "outputs": [
        {
          "output_type": "execute_result",
          "data": {
            "text/plain": [
              "{6, 7, 8}"
            ]
          },
          "metadata": {
            "tags": []
          },
          "execution_count": 109
        }
      ]
    },
    {
      "cell_type": "code",
      "source": [
        ""
      ],
      "metadata": {
        "id": "X0SVW4nYyhfp"
      },
      "execution_count": null,
      "outputs": []
    },
    {
      "cell_type": "markdown",
      "metadata": {
        "id": "syQXm4jBx2yx"
      },
      "source": [
        "### <code>symmetric_difference()</code>\n",
        "\n",
        "\n",
        "* <code>symmetric_difference()</code> method returns the set of elements in A and B but not in both (excluding the intersection)\n",
        "\n",
        "\n",
        "* Also denoted by the operator <code>^</code>"
      ]
    },
    {
      "cell_type": "code",
      "metadata": {
        "id": "EVPLdfe6x2yx"
      },
      "source": [
        "A = {1, 2, 3, 4, 5}\n",
        "B = {4, 5, 6, 7, 8}"
      ],
      "execution_count": null,
      "outputs": []
    },
    {
      "cell_type": "code",
      "metadata": {
        "id": "FLdL9n9nx2yz",
        "colab": {
          "base_uri": "https://localhost:8080/"
        },
        "outputId": "ade3dc2a-fdd3-4f6d-b824-e0cec107f593"
      },
      "source": [
        "A.symmetric_difference(B)"
      ],
      "execution_count": null,
      "outputs": [
        {
          "output_type": "execute_result",
          "data": {
            "text/plain": [
              "{1, 2, 3, 6, 7, 8}"
            ]
          },
          "metadata": {},
          "execution_count": 45
        }
      ]
    },
    {
      "cell_type": "code",
      "metadata": {
        "id": "yetEV2k1x2y1",
        "colab": {
          "base_uri": "https://localhost:8080/"
        },
        "outputId": "9da93f2e-c183-4536-8486-7136278fe3ee"
      },
      "source": [
        "A^B"
      ],
      "execution_count": null,
      "outputs": [
        {
          "output_type": "execute_result",
          "data": {
            "text/plain": [
              "{1, 2, 3, 6, 7, 8}"
            ]
          },
          "metadata": {},
          "execution_count": 46
        }
      ]
    }
  ]
}