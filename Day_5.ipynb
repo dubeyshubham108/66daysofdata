{
  "nbformat": 4,
  "nbformat_minor": 0,
  "metadata": {
    "colab": {
      "name": "Day 5.ipynb",
      "provenance": [],
      "authorship_tag": "ABX9TyOGZ4FM6BmAgH78VA2nTpeM",
      "include_colab_link": true
    },
    "kernelspec": {
      "name": "python3",
      "display_name": "Python 3"
    },
    "language_info": {
      "name": "python"
    }
  },
  "cells": [
    {
      "cell_type": "markdown",
      "metadata": {
        "id": "view-in-github",
        "colab_type": "text"
      },
      "source": [
        "<a href=\"https://colab.research.google.com/github/dubeyshubham786/66daysofdata/blob/main/Day_5.ipynb\" target=\"_parent\"><img src=\"https://colab.research.google.com/assets/colab-badge.svg\" alt=\"Open In Colab\"/></a>"
      ]
    },
    {
      "cell_type": "markdown",
      "source": [
        "# ***Numpy***\n",
        "\n",
        "Numpy stands for Numerical Python.\n",
        "\n",
        "We use numpy library because\n",
        "\n",
        "\n",
        "1.   It is faster\n",
        "2.   Easy to use\n",
        "3.   Use less memory\n",
        "\n",
        "\n",
        "\n",
        " "
      ],
      "metadata": {
        "id": "2-OxhNgLX8RT"
      }
    },
    {
      "cell_type": "code",
      "source": [
        "# Importing numpy array as np\n",
        "\n",
        "import numpy as np"
      ],
      "metadata": {
        "id": "mY203bjyaIsb"
      },
      "execution_count": 2,
      "outputs": []
    },
    {
      "cell_type": "code",
      "source": [
        "# Creating a numpy array\n",
        "\n",
        "array = np.array([1, 2, 3, 4])"
      ],
      "metadata": {
        "id": "iMqYUK-9ZgXH"
      },
      "execution_count": 5,
      "outputs": []
    },
    {
      "cell_type": "code",
      "source": [
        "array "
      ],
      "metadata": {
        "id": "lYtN4EE3W3Jq",
        "colab": {
          "base_uri": "https://localhost:8080/"
        },
        "outputId": "aa2560d3-8c72-40da-9372-36fc84f798ae"
      },
      "execution_count": 6,
      "outputs": [
        {
          "output_type": "execute_result",
          "data": {
            "text/plain": [
              "array([1, 2, 3, 4])"
            ]
          },
          "metadata": {},
          "execution_count": 6
        }
      ]
    },
    {
      "cell_type": "code",
      "source": [
        "# above is a single dimensional array object\n",
        "# Creating two dimension array in numpy \n",
        "\n",
        "arr = np.array([['a' ,'b', 'c'], ['x', 'y', 'z']])"
      ],
      "metadata": {
        "id": "8H0PF1_rW3So"
      },
      "execution_count": 12,
      "outputs": []
    },
    {
      "cell_type": "code",
      "source": [
        "arr"
      ],
      "metadata": {
        "id": "SDc3JuzbW3ct",
        "colab": {
          "base_uri": "https://localhost:8080/"
        },
        "outputId": "9c992c9d-b9f4-48e3-dd95-e2571faf1558"
      },
      "execution_count": 13,
      "outputs": [
        {
          "output_type": "execute_result",
          "data": {
            "text/plain": [
              "array([['a', 'b', 'c'],\n",
              "       ['x', 'y', 'z']], dtype='<U1')"
            ]
          },
          "metadata": {},
          "execution_count": 13
        }
      ]
    },
    {
      "cell_type": "code",
      "source": [
        "# We can see the dimensions of an array by ndim method\n",
        "\n",
        "arr.ndim"
      ],
      "metadata": {
        "id": "37nXRJqxW5o5",
        "colab": {
          "base_uri": "https://localhost:8080/"
        },
        "outputId": "040bc5a4-808a-4c2b-c68a-6a3292baad55"
      },
      "execution_count": 15,
      "outputs": [
        {
          "output_type": "execute_result",
          "data": {
            "text/plain": [
              "2"
            ]
          },
          "metadata": {},
          "execution_count": 15
        }
      ]
    },
    {
      "cell_type": "code",
      "source": [
        "# The shape of a numpy array can be seen by shape method\n",
        "\n",
        "arr.shape"
      ],
      "metadata": {
        "colab": {
          "base_uri": "https://localhost:8080/"
        },
        "id": "8IWdIxDKbzC2",
        "outputId": "e989eff2-c293-48dd-98f5-b9d9fa100c3a"
      },
      "execution_count": 16,
      "outputs": [
        {
          "output_type": "execute_result",
          "data": {
            "text/plain": [
              "(2, 3)"
            ]
          },
          "metadata": {},
          "execution_count": 16
        }
      ]
    },
    {
      "cell_type": "code",
      "source": [
        "# Size and datatype od an array can be found by using size and dtype function\n",
        "\n",
        "print(arr.dtype)\n",
        "print(arr.size)"
      ],
      "metadata": {
        "colab": {
          "base_uri": "https://localhost:8080/"
        },
        "id": "5BJq7tMlcHGL",
        "outputId": "11bfbc8f-9b85-4422-c8af-27b8eb1465aa"
      },
      "execution_count": 19,
      "outputs": [
        {
          "output_type": "stream",
          "name": "stdout",
          "text": [
            "<U1\n",
            "6\n"
          ]
        }
      ]
    },
    {
      "cell_type": "markdown",
      "source": [
        "## **Creating a numpy array**\n",
        "\n",
        "There are several method of creating numpy arrays. Like we can create numpy array with the help of list or tuples. "
      ],
      "metadata": {
        "id": "CDH8x0LMcn_v"
      }
    },
    {
      "cell_type": "code",
      "source": [
        "# creating a numpy array with the help of list\n",
        "\n",
        "a = np.array([[1,3,5], [2,4,6]])"
      ],
      "metadata": {
        "id": "Om0QR3Sqcqfw"
      },
      "execution_count": 20,
      "outputs": []
    },
    {
      "cell_type": "code",
      "source": [
        "print(a)"
      ],
      "metadata": {
        "colab": {
          "base_uri": "https://localhost:8080/"
        },
        "id": "S_qSvggqcqkP",
        "outputId": "5af286cc-d3c7-4c11-d050-db78a7b9302d"
      },
      "execution_count": 22,
      "outputs": [
        {
          "output_type": "stream",
          "name": "stdout",
          "text": [
            "[[1 3 5]\n",
            " [2 4 6]]\n"
          ]
        }
      ]
    },
    {
      "cell_type": "code",
      "source": [
        "# Creating a numpy array with the help of tuple\n",
        "\n",
        "b = np.array((1, 2, 3, 4, 5))"
      ],
      "metadata": {
        "id": "DSi_2r-KflSJ"
      },
      "execution_count": 37,
      "outputs": []
    },
    {
      "cell_type": "code",
      "source": [
        "print(b)"
      ],
      "metadata": {
        "colab": {
          "base_uri": "https://localhost:8080/"
        },
        "id": "Duo-3nhbcUpI",
        "outputId": "8da85428-cc86-4264-c170-e7841d93d875"
      },
      "execution_count": 38,
      "outputs": [
        {
          "output_type": "stream",
          "name": "stdout",
          "text": [
            "[1 2 3 4 5]\n"
          ]
        }
      ]
    },
    {
      "cell_type": "code",
      "source": [
        "b.dtype"
      ],
      "metadata": {
        "colab": {
          "base_uri": "https://localhost:8080/"
        },
        "id": "_E_O_ZDJf5o7",
        "outputId": "4a41b493-190d-4dde-d5ae-2d7c6dedd589"
      },
      "execution_count": 39,
      "outputs": [
        {
          "output_type": "execute_result",
          "data": {
            "text/plain": [
              "dtype('int64')"
            ]
          },
          "metadata": {},
          "execution_count": 39
        }
      ]
    },
    {
      "cell_type": "code",
      "source": [
        "# Creating array with all zeroes\n",
        "# We are creating 3 by 4 matrix array\n",
        "\n",
        "c = np.zeros((3,4))"
      ],
      "metadata": {
        "id": "sKU6n4PCg0FD"
      },
      "execution_count": 42,
      "outputs": []
    },
    {
      "cell_type": "code",
      "source": [
        "print(c)"
      ],
      "metadata": {
        "colab": {
          "base_uri": "https://localhost:8080/"
        },
        "id": "zkyworYeheOj",
        "outputId": "7719f867-5b69-40b6-b20c-d18cfe0fb669"
      },
      "execution_count": 43,
      "outputs": [
        {
          "output_type": "stream",
          "name": "stdout",
          "text": [
            "[[0. 0. 0. 0.]\n",
            " [0. 0. 0. 0.]\n",
            " [0. 0. 0. 0.]]\n"
          ]
        }
      ]
    },
    {
      "cell_type": "code",
      "source": [
        "# We can also create array with the help of full method.\n",
        "# Full method is used to create an array that is of the same number\n",
        "\n",
        "d = np.full((3, 3), 5)"
      ],
      "metadata": {
        "id": "oDxvYJDuhm_2"
      },
      "execution_count": 53,
      "outputs": []
    },
    {
      "cell_type": "code",
      "source": [
        "print(d)"
      ],
      "metadata": {
        "colab": {
          "base_uri": "https://localhost:8080/"
        },
        "id": "zc4EIvi_h3k_",
        "outputId": "9319341d-f7d3-4eef-af87-0b2ed1068129"
      },
      "execution_count": 54,
      "outputs": [
        {
          "output_type": "stream",
          "name": "stdout",
          "text": [
            "[[5 5 5]\n",
            " [5 5 5]\n",
            " [5 5 5]]\n"
          ]
        }
      ]
    },
    {
      "cell_type": "code",
      "source": [
        "# We can also change the datatype of this array with the help of dtype function\n",
        "\n",
        "d1 = np.full((3,3), 5, dtype='complex')"
      ],
      "metadata": {
        "id": "3xs_d67Uh5Vd"
      },
      "execution_count": 55,
      "outputs": []
    },
    {
      "cell_type": "code",
      "source": [
        "print(d1)"
      ],
      "metadata": {
        "colab": {
          "base_uri": "https://localhost:8080/"
        },
        "id": "JuipctnfibsU",
        "outputId": "f16cd4fa-7731-4f20-c2ae-4e929b646317"
      },
      "execution_count": 56,
      "outputs": [
        {
          "output_type": "stream",
          "name": "stdout",
          "text": [
            "[[5.+0.j 5.+0.j 5.+0.j]\n",
            " [5.+0.j 5.+0.j 5.+0.j]\n",
            " [5.+0.j 5.+0.j 5.+0.j]]\n"
          ]
        }
      ]
    },
    {
      "cell_type": "code",
      "source": [
        "# Using random function for creating an array\n",
        "# This function will create an array with random values\n",
        "\n",
        "np.random.random((3,3))"
      ],
      "metadata": {
        "colab": {
          "base_uri": "https://localhost:8080/"
        },
        "id": "larFo6hRiqHn",
        "outputId": "96ca9ca4-054e-441c-b579-a6932c93adc2"
      },
      "execution_count": 57,
      "outputs": [
        {
          "output_type": "execute_result",
          "data": {
            "text/plain": [
              "array([[0.79138663, 0.51226185, 0.3253195 ],\n",
              "       [0.09227059, 0.55457664, 0.5630983 ],\n",
              "       [0.13678631, 0.49630491, 0.86316131]])"
            ]
          },
          "metadata": {},
          "execution_count": 57
        }
      ]
    },
    {
      "cell_type": "code",
      "source": [
        "# arange function can also be used to create an array in sequence of numbers\n",
        "# For this first we will need to insert the range of the numbers and then the step size of the number\n",
        "\n",
        "e = np.arange(0, 30, 5)"
      ],
      "metadata": {
        "id": "rW6gAlJti9ow"
      },
      "execution_count": 59,
      "outputs": []
    },
    {
      "cell_type": "code",
      "source": [
        "print(e)"
      ],
      "metadata": {
        "colab": {
          "base_uri": "https://localhost:8080/"
        },
        "id": "u92cOywKjWPy",
        "outputId": "37ec643d-dca6-4a1f-a152-f39f13394c9c"
      },
      "execution_count": 60,
      "outputs": [
        {
          "output_type": "stream",
          "name": "stdout",
          "text": [
            "[ 0  5 10 15 20 25]\n"
          ]
        }
      ]
    },
    {
      "cell_type": "code",
      "source": [
        "# We can also use linspace function for creating an array with between the range of values\n",
        "# having equal space between them. \n",
        "# First we will insert a range of numbers and then the number values that we want.\n",
        "\n",
        "g = np.linspace(0, 5, 10)"
      ],
      "metadata": {
        "id": "Mv1jJItEjWUH"
      },
      "execution_count": 61,
      "outputs": []
    },
    {
      "cell_type": "code",
      "source": [
        "g"
      ],
      "metadata": {
        "colab": {
          "base_uri": "https://localhost:8080/"
        },
        "id": "PuHLKEFzjWXX",
        "outputId": "b77c484a-1921-4f30-a4bc-4bde12a50d5f"
      },
      "execution_count": 62,
      "outputs": [
        {
          "output_type": "execute_result",
          "data": {
            "text/plain": [
              "array([0.        , 0.55555556, 1.11111111, 1.66666667, 2.22222222,\n",
              "       2.77777778, 3.33333333, 3.88888889, 4.44444444, 5.        ])"
            ]
          },
          "metadata": {},
          "execution_count": 62
        }
      ]
    },
    {
      "cell_type": "code",
      "source": [
        "# We can also reshape an array provided that the original size of array remains same\n",
        "\n",
        "arr = np.array([[1, 2, 3, 4],\n",
        "                [5, 2, 4, 2],\n",
        "                [1, 2, 0, 1]])\n",
        "  \n",
        "newarr = arr.reshape(2, 2, 3)"
      ],
      "metadata": {
        "id": "-f90Z2Agj6tn"
      },
      "execution_count": 63,
      "outputs": []
    },
    {
      "cell_type": "code",
      "source": [
        "newarr"
      ],
      "metadata": {
        "colab": {
          "base_uri": "https://localhost:8080/"
        },
        "id": "cIDBKQXjkuei",
        "outputId": "07d3f769-4bd7-41cf-9ace-9c4cb9972981"
      },
      "execution_count": 64,
      "outputs": [
        {
          "output_type": "execute_result",
          "data": {
            "text/plain": [
              "array([[[1, 2, 3],\n",
              "        [4, 5, 2]],\n",
              "\n",
              "       [[4, 2, 1],\n",
              "        [2, 0, 1]]])"
            ]
          },
          "metadata": {},
          "execution_count": 64
        }
      ]
    },
    {
      "cell_type": "code",
      "source": [
        "print(arr.size)"
      ],
      "metadata": {
        "colab": {
          "base_uri": "https://localhost:8080/"
        },
        "id": "qEy66MGgkv7i",
        "outputId": "98b14f50-9d94-4132-853e-c03d230382ce"
      },
      "execution_count": 65,
      "outputs": [
        {
          "output_type": "stream",
          "name": "stdout",
          "text": [
            "12\n"
          ]
        }
      ]
    },
    {
      "cell_type": "code",
      "source": [
        "print(newarr.size)"
      ],
      "metadata": {
        "colab": {
          "base_uri": "https://localhost:8080/"
        },
        "id": "xg1vgf80k0Tg",
        "outputId": "ce307e08-0f34-4a83-ada4-7b9dd6ad2166"
      },
      "execution_count": 66,
      "outputs": [
        {
          "output_type": "stream",
          "name": "stdout",
          "text": [
            "12\n"
          ]
        }
      ]
    },
    {
      "cell_type": "code",
      "source": [
        "# If we want to get an array into one dimension then we can use the flatten method\n",
        "\n",
        "print(newarr.flatten())"
      ],
      "metadata": {
        "colab": {
          "base_uri": "https://localhost:8080/"
        },
        "id": "bmjoGkcbk2nL",
        "outputId": "62a2c768-e6e1-4699-ecce-c8f379afc860"
      },
      "execution_count": 68,
      "outputs": [
        {
          "output_type": "stream",
          "name": "stdout",
          "text": [
            "[1 2 3 4 5 2 4 2 1 2 0 1]\n"
          ]
        }
      ]
    },
    {
      "cell_type": "markdown",
      "source": [
        "## **Array Indexing and Slicing**\n",
        "\n",
        "Indexing in numpy is similar to list.\n",
        "\n",
        "The slicing syntax can be defined like this [row:column:step]\n",
        "\n",
        "If step is not provided than we will take it as zero."
      ],
      "metadata": {
        "id": "Y1JEwh2xlUdD"
      }
    },
    {
      "cell_type": "code",
      "source": [
        "arr = np.array([1, 2, 3, 4, 5, 6, 7])\n",
        "\n",
        "print(arr[1:5:2])"
      ],
      "metadata": {
        "colab": {
          "base_uri": "https://localhost:8080/"
        },
        "id": "-skMGd1FpvDj",
        "outputId": "ad9259b6-545e-4fe4-ba2d-e313c6002c16"
      },
      "execution_count": 70,
      "outputs": [
        {
          "output_type": "stream",
          "name": "stdout",
          "text": [
            "[2 4]\n"
          ]
        }
      ]
    },
    {
      "cell_type": "code",
      "source": [
        "arr = np.array([1, 2, 3, 4, 5, 6, 7])\n",
        "\n",
        "print(arr[-3:-1])"
      ],
      "metadata": {
        "colab": {
          "base_uri": "https://localhost:8080/"
        },
        "id": "xo2FkTj5pl3v",
        "outputId": "28cd8c31-d1dc-43e2-ddf9-0cd68fd2dc16"
      },
      "execution_count": 69,
      "outputs": [
        {
          "output_type": "stream",
          "name": "stdout",
          "text": [
            "[5 6]\n"
          ]
        }
      ]
    },
    {
      "cell_type": "code",
      "source": [
        "arr = np.array([[1, 2, 3, 4, 5], [6, 7, 8, 9, 10]])\n",
        "\n",
        "print(arr[1, 1:4])"
      ],
      "metadata": {
        "colab": {
          "base_uri": "https://localhost:8080/"
        },
        "id": "phWlP177ptmH",
        "outputId": "127fc6de-ce71-45c7-d296-39bd0e033134"
      },
      "execution_count": 71,
      "outputs": [
        {
          "output_type": "stream",
          "name": "stdout",
          "text": [
            "[7 8 9]\n"
          ]
        }
      ]
    },
    {
      "cell_type": "markdown",
      "source": [
        "## **Transpose of an array**\n",
        "\n",
        "We can get the transpose of an array by using the following operation.\n",
        "\n",
        "```\n",
        "# This is formatted as code\n",
        "```\n",
        "\n",
        "\n",
        "\n"
      ],
      "metadata": {
        "id": "EWl14VRnrA7y"
      }
    },
    {
      "cell_type": "code",
      "source": [
        "arr = np.array([[1, 2, 3, 4, 5], [6, 7, 8, 9, 10]])\n",
        "\n",
        "print(arr)"
      ],
      "metadata": {
        "colab": {
          "base_uri": "https://localhost:8080/"
        },
        "id": "znKLlkhulYrg",
        "outputId": "404741ae-9b1f-4729-e991-1fd4bf2d0add"
      },
      "execution_count": 73,
      "outputs": [
        {
          "output_type": "stream",
          "name": "stdout",
          "text": [
            "[[ 1  2  3  4  5]\n",
            " [ 6  7  8  9 10]]\n"
          ]
        }
      ]
    },
    {
      "cell_type": "code",
      "source": [
        "# Now to get the transpose of it we can do like this\n",
        "\n",
        "print(arr.T)"
      ],
      "metadata": {
        "colab": {
          "base_uri": "https://localhost:8080/"
        },
        "id": "e54kkIpLlYyQ",
        "outputId": "6ff8965b-2145-4eb6-fd1a-a39fc29861ee"
      },
      "execution_count": 75,
      "outputs": [
        {
          "output_type": "stream",
          "name": "stdout",
          "text": [
            "[[ 1  6]\n",
            " [ 2  7]\n",
            " [ 3  8]\n",
            " [ 4  9]\n",
            " [ 5 10]]\n"
          ]
        }
      ]
    },
    {
      "cell_type": "markdown",
      "source": [
        "## **Universal functions (ufunc)**\n",
        "\n",
        "NumPy provides familiar mathematical functions such as sin, cos, exp, etc. These functions also operate elementwise on an array, producing an array as output."
      ],
      "metadata": {
        "id": "OCsNmoNIsbej"
      }
    },
    {
      "cell_type": "code",
      "source": [
        "# We can get array of sine values\n",
        "\n",
        "a = np.array([0, np.pi/2, np.pi])"
      ],
      "metadata": {
        "id": "YxiRGmR3snuL"
      },
      "execution_count": 81,
      "outputs": []
    },
    {
      "cell_type": "code",
      "source": [
        "print(a)"
      ],
      "metadata": {
        "colab": {
          "base_uri": "https://localhost:8080/"
        },
        "id": "kkgd8F7UtG-3",
        "outputId": "cd317468-b3e8-48dd-8325-346b4ff962c6"
      },
      "execution_count": 82,
      "outputs": [
        {
          "output_type": "stream",
          "name": "stdout",
          "text": [
            "[0.         1.57079633 3.14159265]\n"
          ]
        }
      ]
    },
    {
      "cell_type": "code",
      "source": [
        "# The sin values of this array is\n",
        "\n",
        "print(np.sin(a))"
      ],
      "metadata": {
        "colab": {
          "base_uri": "https://localhost:8080/"
        },
        "id": "3mD5KySWtCQd",
        "outputId": "709b5cbc-30fb-44ac-ba4d-7e10c0e0c8d8"
      },
      "execution_count": 80,
      "outputs": [
        {
          "output_type": "stream",
          "name": "stdout",
          "text": [
            "[0.0000000e+00 1.0000000e+00 1.2246468e-16]\n"
          ]
        }
      ]
    },
    {
      "cell_type": "code",
      "source": [
        "print(sin_arr)"
      ],
      "metadata": {
        "colab": {
          "base_uri": "https://localhost:8080/"
        },
        "id": "YKw-ZL3Cs7MZ",
        "outputId": "f0cef965-1cc7-4819-f40c-7abacc0ba5ea"
      },
      "execution_count": 78,
      "outputs": [
        {
          "output_type": "stream",
          "name": "stdout",
          "text": [
            "[0.         1.57079633 3.14159265]\n"
          ]
        }
      ]
    },
    {
      "cell_type": "code",
      "source": [
        "# We can also create exponential values of an array by np.exp() function\n",
        "# creating a one dimensional array\n",
        "\n",
        "a = np.array([0, 1, 2])"
      ],
      "metadata": {
        "id": "7lIp1N0fs9WZ"
      },
      "execution_count": 83,
      "outputs": []
    },
    {
      "cell_type": "code",
      "source": [
        "print(np.exp(a))\n",
        "# it is e to the power of the elements of an array a"
      ],
      "metadata": {
        "colab": {
          "base_uri": "https://localhost:8080/"
        },
        "id": "p7rU9FQatjpC",
        "outputId": "22f1be2d-9fb0-4f67-c3db-01f4d0d0bd85"
      },
      "execution_count": 84,
      "outputs": [
        {
          "output_type": "stream",
          "name": "stdout",
          "text": [
            "[1.         2.71828183 7.3890561 ]\n"
          ]
        }
      ]
    },
    {
      "cell_type": "code",
      "source": [
        "# Similarly for creating a square root we can use np.sqrt\n",
        "\n",
        "print(np.sqrt(a))"
      ],
      "metadata": {
        "colab": {
          "base_uri": "https://localhost:8080/"
        },
        "id": "bLcW2ylqt0G0",
        "outputId": "87cdeafd-23ba-432f-caac-556eeaf8ea7a"
      },
      "execution_count": 85,
      "outputs": [
        {
          "output_type": "stream",
          "name": "stdout",
          "text": [
            "[0.         1.         1.41421356]\n"
          ]
        }
      ]
    },
    {
      "cell_type": "markdown",
      "source": [
        "## **Sorting Array**\n",
        "\n",
        "We can sort array by using np.sort() method in python."
      ],
      "metadata": {
        "id": "qQaeGB2vu2xr"
      }
    },
    {
      "cell_type": "code",
      "source": [
        "# Lets take 3 dimensional that we wish to sort\n",
        "\n",
        "a = np.array([[1, 4, 2], [3, 4, 6],[0, -1, 5]])"
      ],
      "metadata": {
        "id": "RDnj_CrEvXtd"
      },
      "execution_count": 87,
      "outputs": []
    },
    {
      "cell_type": "code",
      "source": [
        "# Sorting the above array with axis= none\n",
        "# Axis=None means that it will sort all the elements in the ascending order\n",
        "\n",
        "np.sort(a, axis = None)"
      ],
      "metadata": {
        "colab": {
          "base_uri": "https://localhost:8080/"
        },
        "id": "D6sOOuB8u5Mr",
        "outputId": "cf80e494-fadd-4e6b-dcc9-50cad9502c65"
      },
      "execution_count": 88,
      "outputs": [
        {
          "output_type": "execute_result",
          "data": {
            "text/plain": [
              "array([-1,  0,  1,  2,  3,  4,  4,  5,  6])"
            ]
          },
          "metadata": {},
          "execution_count": 88
        }
      ]
    },
    {
      "cell_type": "code",
      "source": [
        "# For sorting column wise we will put axis=0\n",
        "# Take one column and arrange it in ascending order\n",
        "# Similarly for another column and so on.\n",
        "\n",
        "np.sort(a, axis=0)"
      ],
      "metadata": {
        "colab": {
          "base_uri": "https://localhost:8080/"
        },
        "id": "bx8WwFIYlZDB",
        "outputId": "e4f1fb9e-fad0-49fe-9251-74da63414680"
      },
      "execution_count": 89,
      "outputs": [
        {
          "output_type": "execute_result",
          "data": {
            "text/plain": [
              "array([[ 0, -1,  2],\n",
              "       [ 1,  4,  5],\n",
              "       [ 3,  4,  6]])"
            ]
          },
          "metadata": {},
          "execution_count": 89
        }
      ]
    },
    {
      "cell_type": "code",
      "source": [
        "# For sorting row wise we will put axis=1\n",
        "# Here it will take one row and sort all the elements of that row in ascending order\n",
        "# Similarly for another rows and so on\n",
        "\n",
        "np.sort(a, axis=1)"
      ],
      "metadata": {
        "colab": {
          "base_uri": "https://localhost:8080/"
        },
        "id": "x1oK_12glLFj",
        "outputId": "372c5ccd-711e-4a1f-bc38-53413083296c"
      },
      "execution_count": 90,
      "outputs": [
        {
          "output_type": "execute_result",
          "data": {
            "text/plain": [
              "array([[ 1,  2,  4],\n",
              "       [ 3,  4,  6],\n",
              "       [-1,  0,  5]])"
            ]
          },
          "metadata": {},
          "execution_count": 90
        }
      ]
    },
    {
      "cell_type": "markdown",
      "source": [
        "## **Stacking of Numpy Array**\n",
        "\n",
        "Numpy array can be merged into following different types.\n",
        "\n",
        "\n",
        "1.   Vertical Stacking\n",
        "2.   Horizontal Stacking\n",
        "3.   Column stacking\n",
        "4.   Concatenate stacking\n",
        "\n"
      ],
      "metadata": {
        "id": "5V5J3v3vQBNP"
      }
    },
    {
      "cell_type": "code",
      "source": [
        "a = np.array([[1, 2],\n",
        "              [3, 4]])\n",
        "  \n",
        "b = np.array([[5, 6],\n",
        "              [7, 8]])"
      ],
      "metadata": {
        "id": "2xHT837ewIQ1"
      },
      "execution_count": 4,
      "outputs": []
    },
    {
      "cell_type": "code",
      "source": [
        "print(a)\n",
        "print(b)"
      ],
      "metadata": {
        "colab": {
          "base_uri": "https://localhost:8080/"
        },
        "id": "LuWWFB86RAxO",
        "outputId": "f92dfec7-a42b-4f8e-a66a-6522c4f2ddb8"
      },
      "execution_count": 5,
      "outputs": [
        {
          "output_type": "stream",
          "name": "stdout",
          "text": [
            "[[1 2]\n",
            " [3 4]]\n",
            "[[5 6]\n",
            " [7 8]]\n"
          ]
        }
      ]
    },
    {
      "cell_type": "code",
      "source": [
        "# For vertical stacking \n",
        "\n",
        "print(np.vstack((a, b)))"
      ],
      "metadata": {
        "colab": {
          "base_uri": "https://localhost:8080/"
        },
        "id": "h_h3bNj8QtTz",
        "outputId": "8999504a-658c-4622-fc25-1b6bfe9bb107"
      },
      "execution_count": 8,
      "outputs": [
        {
          "output_type": "stream",
          "name": "stdout",
          "text": [
            "[[1 2]\n",
            " [3 4]\n",
            " [5 6]\n",
            " [7 8]]\n"
          ]
        }
      ]
    },
    {
      "cell_type": "code",
      "source": [
        "print(np.vstack((b, a)))"
      ],
      "metadata": {
        "colab": {
          "base_uri": "https://localhost:8080/"
        },
        "id": "Xa5TdmwDRHNf",
        "outputId": "a8e2c5b8-2315-4450-a1c8-ef4d685e9fa7"
      },
      "execution_count": 10,
      "outputs": [
        {
          "output_type": "stream",
          "name": "stdout",
          "text": [
            "[[5 6]\n",
            " [7 8]\n",
            " [1 2]\n",
            " [3 4]]\n"
          ]
        }
      ]
    },
    {
      "cell_type": "code",
      "source": [
        "# For Horizontal stacking\n",
        "\n",
        "print(np.hstack((a, b)))"
      ],
      "metadata": {
        "colab": {
          "base_uri": "https://localhost:8080/"
        },
        "id": "oLnhJAOORaq2",
        "outputId": "d22f9b33-e3b9-42e4-d8ba-fc81871d30da"
      },
      "execution_count": 11,
      "outputs": [
        {
          "output_type": "stream",
          "name": "stdout",
          "text": [
            "[[1 2 5 6]\n",
            " [3 4 7 8]]\n"
          ]
        }
      ]
    },
    {
      "cell_type": "code",
      "source": [
        "print(np.hstack((b, a)))"
      ],
      "metadata": {
        "colab": {
          "base_uri": "https://localhost:8080/"
        },
        "id": "pfSAAuFaRk16",
        "outputId": "ef1bba8d-b483-4c0b-8b6c-45e610bb006d"
      },
      "execution_count": 12,
      "outputs": [
        {
          "output_type": "stream",
          "name": "stdout",
          "text": [
            "[[5 6 1 2]\n",
            " [7 8 3 4]]\n"
          ]
        }
      ]
    },
    {
      "cell_type": "code",
      "source": [
        "# For column stacking we will use\n",
        "\n",
        "print(np.column_stack((a, b)))"
      ],
      "metadata": {
        "colab": {
          "base_uri": "https://localhost:8080/"
        },
        "id": "RQlByf1PRq5m",
        "outputId": "85f951a5-7094-49f9-e89f-7fd6b1a7eeb1"
      },
      "execution_count": 13,
      "outputs": [
        {
          "output_type": "stream",
          "name": "stdout",
          "text": [
            "[[1 2 5 6]\n",
            " [3 4 7 8]]\n"
          ]
        }
      ]
    },
    {
      "cell_type": "code",
      "source": [
        "print(np.column_stack((b, a)))"
      ],
      "metadata": {
        "colab": {
          "base_uri": "https://localhost:8080/"
        },
        "id": "Mk6fajY8R2Yg",
        "outputId": "b92a3418-866a-4547-c011-94576962e419"
      },
      "execution_count": 14,
      "outputs": [
        {
          "output_type": "stream",
          "name": "stdout",
          "text": [
            "[[5 6 1 2]\n",
            " [7 8 3 4]]\n"
          ]
        }
      ]
    },
    {
      "cell_type": "code",
      "source": [
        "# For merging the array \n",
        "\n",
        "print(np.concatenate((a, b), 1))"
      ],
      "metadata": {
        "colab": {
          "base_uri": "https://localhost:8080/"
        },
        "id": "1BNjbB5fRrMV",
        "outputId": "d39109f6-d367-40a8-e485-11fcd28248a4"
      },
      "execution_count": 16,
      "outputs": [
        {
          "output_type": "stream",
          "name": "stdout",
          "text": [
            "[[1 2 5 6]\n",
            " [3 4 7 8]]\n"
          ]
        }
      ]
    },
    {
      "cell_type": "markdown",
      "source": [
        "## Splitting of Numpy array\n",
        "\n",
        "We can split numpy array into 3 types. Vertical splitting, Horizontal splitting and splitting along specified axis."
      ],
      "metadata": {
        "id": "ifl___FGSVoC"
      }
    },
    {
      "cell_type": "code",
      "source": [
        "a = np.array([[1, 3, 5, 7, 9, 11],\n",
        "              [2, 4, 6, 8, 10, 12]])"
      ],
      "metadata": {
        "id": "oLZcOi9HSzEF"
      },
      "execution_count": 18,
      "outputs": []
    },
    {
      "cell_type": "code",
      "source": [
        "print(a)"
      ],
      "metadata": {
        "colab": {
          "base_uri": "https://localhost:8080/"
        },
        "id": "Vln1vLD1S31X",
        "outputId": "43d309a4-abf2-4452-d26d-d953bd3bb1d0"
      },
      "execution_count": 19,
      "outputs": [
        {
          "output_type": "stream",
          "name": "stdout",
          "text": [
            "[[ 1  3  5  7  9 11]\n",
            " [ 2  4  6  8 10 12]]\n"
          ]
        }
      ]
    },
    {
      "cell_type": "code",
      "source": [
        "# For Vertical splitting of an array\n",
        "\n",
        "print(np.vsplit(a, 2))"
      ],
      "metadata": {
        "colab": {
          "base_uri": "https://localhost:8080/"
        },
        "id": "6ypTqDdSRrQk",
        "outputId": "5d09bfb4-fc3a-45f2-92f9-661160f98fe1"
      },
      "execution_count": 24,
      "outputs": [
        {
          "output_type": "stream",
          "name": "stdout",
          "text": [
            "[array([[ 1,  3,  5,  7,  9, 11]]), array([[ 2,  4,  6,  8, 10, 12]])]\n"
          ]
        }
      ]
    },
    {
      "cell_type": "code",
      "source": [
        "# It will split along vertical axis into 2 parts.\n",
        "# Similarly we can also split along horizontal axis into 2 parts\n",
        "\n",
        "print(np.hsplit(a, 2))"
      ],
      "metadata": {
        "colab": {
          "base_uri": "https://localhost:8080/"
        },
        "id": "-3e5idocS_lT",
        "outputId": "e87e9514-5d5e-48df-f7c8-0d189efa10e5"
      },
      "execution_count": 25,
      "outputs": [
        {
          "output_type": "stream",
          "name": "stdout",
          "text": [
            "[array([[1, 3, 5],\n",
            "       [2, 4, 6]]), array([[ 7,  9, 11],\n",
            "       [ 8, 10, 12]])]\n"
          ]
        }
      ]
    },
    {
      "cell_type": "markdown",
      "source": [
        "## **Datetime in Python**\n",
        "\n"
      ],
      "metadata": {
        "id": "b2HzmhdjUuHs"
      }
    },
    {
      "cell_type": "code",
      "source": [
        "# creating a date\n",
        "today = np.datetime64('2017-02-12')\n",
        "print(\"Date is:\", today)\n",
        "print(\"Year is:\", np.datetime64(today, 'Y'))"
      ],
      "metadata": {
        "colab": {
          "base_uri": "https://localhost:8080/"
        },
        "id": "EpKrzLInTeHF",
        "outputId": "d96a97c0-92be-4d42-aea8-059d06e22e3a"
      },
      "execution_count": 27,
      "outputs": [
        {
          "output_type": "stream",
          "name": "stdout",
          "text": [
            "Date is: 2017-02-12\n",
            "Year is: 2017\n"
          ]
        }
      ]
    },
    {
      "cell_type": "markdown",
      "source": [
        "## **Matrix function in Numpy**\n",
        "\n",
        "We can do many matrix operation using numpy function. Like we can find the rank, multiply matrix, find eigen values and eigen vectors and so on. "
      ],
      "metadata": {
        "id": "6FdesMmQVV0Y"
      }
    },
    {
      "cell_type": "code",
      "source": [
        "# Let us take a numpy array\n",
        "\n",
        "A = np.array([[6, 1, 1],\n",
        "              [4, -2, 5],\n",
        "              [2, 8, 7]])"
      ],
      "metadata": {
        "id": "H8HmcUlmVtOm"
      },
      "execution_count": 28,
      "outputs": []
    },
    {
      "cell_type": "code",
      "source": [
        "print(A)"
      ],
      "metadata": {
        "colab": {
          "base_uri": "https://localhost:8080/"
        },
        "id": "_QHQ2RPcVtSG",
        "outputId": "b5474d8f-5ce2-46b6-b7a9-9c8a494e6591"
      },
      "execution_count": 38,
      "outputs": [
        {
          "output_type": "stream",
          "name": "stdout",
          "text": [
            "[[ 6  1  1]\n",
            " [ 4 -2  5]\n",
            " [ 2  8  7]]\n"
          ]
        }
      ]
    },
    {
      "cell_type": "code",
      "source": [
        "# Now if we want to find the rank of matrix then\n",
        "\n",
        "print(np.linalg.matrix_rank(A))"
      ],
      "metadata": {
        "colab": {
          "base_uri": "https://localhost:8080/"
        },
        "id": "8ueDgjfvVtVM",
        "outputId": "bce0e728-ed9b-4e3a-f0b1-195fb4a33094"
      },
      "execution_count": 30,
      "outputs": [
        {
          "output_type": "stream",
          "name": "stdout",
          "text": [
            "3\n"
          ]
        }
      ]
    },
    {
      "cell_type": "code",
      "source": [
        "# For finding the trace of matrix\n",
        "\n",
        "print(np.trace(A))"
      ],
      "metadata": {
        "colab": {
          "base_uri": "https://localhost:8080/"
        },
        "id": "L7eZeXpSWVB-",
        "outputId": "0623e5d3-140d-471d-dd57-8ae42010725e"
      },
      "execution_count": 33,
      "outputs": [
        {
          "output_type": "stream",
          "name": "stdout",
          "text": [
            "11\n"
          ]
        }
      ]
    },
    {
      "cell_type": "code",
      "source": [
        "# If we want to raise the power of matrix\n",
        "\n",
        "print(np.linalg.matrix_power(A, 2))"
      ],
      "metadata": {
        "colab": {
          "base_uri": "https://localhost:8080/"
        },
        "id": "fRkwsyQAXAT5",
        "outputId": "634570c3-29ff-4e97-fe3d-3da4f3dc5c16"
      },
      "execution_count": 39,
      "outputs": [
        {
          "output_type": "stream",
          "name": "stdout",
          "text": [
            "[[42 12 18]\n",
            " [26 48 29]\n",
            " [58 42 91]]\n"
          ]
        }
      ]
    },
    {
      "cell_type": "code",
      "source": [
        "# For finding the determinant of a matrix\n",
        "\n",
        "print(np.linalg.det(A))"
      ],
      "metadata": {
        "colab": {
          "base_uri": "https://localhost:8080/"
        },
        "id": "zr9nv0NEWeS2",
        "outputId": "06c6a7f6-8b11-4cc5-d77c-cb2e294a8c80"
      },
      "execution_count": 34,
      "outputs": [
        {
          "output_type": "stream",
          "name": "stdout",
          "text": [
            "-306.0\n"
          ]
        }
      ]
    },
    {
      "cell_type": "code",
      "source": [
        "# If it's determinant is not zero then we can also find the inverse of that matrix\n",
        "\n",
        "print(np.linalg.inv(A))"
      ],
      "metadata": {
        "colab": {
          "base_uri": "https://localhost:8080/"
        },
        "id": "-5193tHPWeCu",
        "outputId": "8959ca67-5938-4cc0-8ab4-bba6d67d9fc0"
      },
      "execution_count": 35,
      "outputs": [
        {
          "output_type": "stream",
          "name": "stdout",
          "text": [
            "[[ 0.17647059 -0.00326797 -0.02287582]\n",
            " [ 0.05882353 -0.13071895  0.08496732]\n",
            " [-0.11764706  0.1503268   0.05228758]]\n"
          ]
        }
      ]
    },
    {
      "cell_type": "code",
      "source": [
        ""
      ],
      "metadata": {
        "id": "QqaPxYW3VFGK"
      },
      "execution_count": 26,
      "outputs": []
    },
    {
      "cell_type": "code",
      "source": [
        ""
      ],
      "metadata": {
        "id": "iHI4FT1BVFK8"
      },
      "execution_count": null,
      "outputs": []
    }
  ]
}